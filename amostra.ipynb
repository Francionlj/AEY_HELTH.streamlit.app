{
 "cells": [
  {
   "cell_type": "code",
   "execution_count": 41,
   "metadata": {},
   "outputs": [],
   "source": [
    "import numpy as np\n",
    "import pandas as pd\n",
    "import matplotlib.pyplot as plt\n",
    "\n",
    "from tqdm import tqdm\n",
    "from geopy.geocoders import Nominatim\n",
    "from geopy.exc import GeocoderUnavailable\n"
   ]
  },
  {
   "cell_type": "markdown",
   "metadata": {},
   "source": [
    "# Abrindo o df"
   ]
  },
  {
   "cell_type": "code",
   "execution_count": 42,
   "metadata": {},
   "outputs": [
    {
     "name": "stderr",
     "output_type": "stream",
     "text": [
      "<>:1: SyntaxWarning: invalid escape sequence '\\p'\n",
      "<>:1: SyntaxWarning: invalid escape sequence '\\p'\n",
      "C:\\Users\\USUARIO\\AppData\\Local\\Temp\\ipykernel_16864\\3161529576.py:1: SyntaxWarning: invalid escape sequence '\\p'\n",
      "  df = pd.read_csv('D:\\pasta_sem_titulo\\df_filtrado_atvivas\\df_filtrado.csv', sep = ';')\n"
     ]
    }
   ],
   "source": [
    "df = pd.read_csv('D:\\pasta_sem_titulo\\df_filtrado_atvivas\\df_filtrado.csv', sep = ';')"
   ]
  },
  {
   "cell_type": "markdown",
   "metadata": {},
   "source": [
    "# Tirando as duplicadas baseadas no cnpj "
   ]
  },
  {
   "cell_type": "code",
   "execution_count": 43,
   "metadata": {},
   "outputs": [],
   "source": [
    "df_sem_duplicatas = df.drop_duplicates(subset=['CNPJ BÁSICO'])"
   ]
  },
  {
   "cell_type": "code",
   "execution_count": 44,
   "metadata": {},
   "outputs": [
    {
     "data": {
      "text/plain": [
       "CNPJ BÁSICO\n",
       "72074933    1\n",
       "3840974     1\n",
       "2150858     1\n",
       "1272240     1\n",
       "5500399     1\n",
       "           ..\n",
       "4732675     1\n",
       "1342862     1\n",
       "61053070    1\n",
       "7824973     1\n",
       "53884195    1\n",
       "Name: count, Length: 84031, dtype: int64"
      ]
     },
     "execution_count": 44,
     "metadata": {},
     "output_type": "execute_result"
    }
   ],
   "source": [
    "df_sem_duplicatas['CNPJ BÁSICO'].value_counts()"
   ]
  },
  {
   "cell_type": "markdown",
   "metadata": {},
   "source": [
    "# A porcentagem acumulada[nome fantasia] <= 0.6"
   ]
  },
  {
   "cell_type": "code",
   "execution_count": 45,
   "metadata": {},
   "outputs": [],
   "source": [
    "df_cnai_nomes = df_sem_duplicatas[['CNAE FISCAL PRINCIPAL', 'NOME FANTASIA', 'CNPJ BÁSICO']]"
   ]
  },
  {
   "cell_type": "code",
   "execution_count": 46,
   "metadata": {},
   "outputs": [
    {
     "data": {
      "text/plain": [
       "NOME FANTASIA\n",
       "True     56170\n",
       "False    27861\n",
       "Name: count, dtype: int64"
      ]
     },
     "execution_count": 46,
     "metadata": {},
     "output_type": "execute_result"
    }
   ],
   "source": [
    "df_cnai_nomes['NOME FANTASIA'].isna().value_counts()"
   ]
  },
  {
   "cell_type": "code",
   "execution_count": 47,
   "metadata": {},
   "outputs": [
    {
     "data": {
      "text/html": [
       "<div>\n",
       "<style scoped>\n",
       "    .dataframe tbody tr th:only-of-type {\n",
       "        vertical-align: middle;\n",
       "    }\n",
       "\n",
       "    .dataframe tbody tr th {\n",
       "        vertical-align: top;\n",
       "    }\n",
       "\n",
       "    .dataframe thead th {\n",
       "        text-align: right;\n",
       "    }\n",
       "</style>\n",
       "<table border=\"1\" class=\"dataframe\">\n",
       "  <thead>\n",
       "    <tr style=\"text-align: right;\">\n",
       "      <th></th>\n",
       "      <th>CNAE FISCAL PRINCIPAL</th>\n",
       "      <th>NOME FANTASIA</th>\n",
       "      <th>CNPJ BÁSICO</th>\n",
       "    </tr>\n",
       "  </thead>\n",
       "  <tbody>\n",
       "    <tr>\n",
       "      <th>0</th>\n",
       "      <td>9602501</td>\n",
       "      <td>MULHER CHEIROSA</td>\n",
       "      <td>72074933</td>\n",
       "    </tr>\n",
       "    <tr>\n",
       "      <th>1</th>\n",
       "      <td>4761003</td>\n",
       "      <td>LIVRARIA E PAPELARIA DDED</td>\n",
       "      <td>72117641</td>\n",
       "    </tr>\n",
       "    <tr>\n",
       "      <th>2</th>\n",
       "      <td>4783101</td>\n",
       "      <td>NaN</td>\n",
       "      <td>72117583</td>\n",
       "    </tr>\n",
       "    <tr>\n",
       "      <th>3</th>\n",
       "      <td>9601701</td>\n",
       "      <td>LAVANDERIA RITALI</td>\n",
       "      <td>72140619</td>\n",
       "    </tr>\n",
       "    <tr>\n",
       "      <th>4</th>\n",
       "      <td>4781400</td>\n",
       "      <td>NILVA MODAS</td>\n",
       "      <td>72178866</td>\n",
       "    </tr>\n",
       "    <tr>\n",
       "      <th>...</th>\n",
       "      <td>...</td>\n",
       "      <td>...</td>\n",
       "      <td>...</td>\n",
       "    </tr>\n",
       "    <tr>\n",
       "      <th>85566</th>\n",
       "      <td>7311400</td>\n",
       "      <td>INFLUENTE EVENTOS</td>\n",
       "      <td>53882591</td>\n",
       "    </tr>\n",
       "    <tr>\n",
       "      <th>85567</th>\n",
       "      <td>7319002</td>\n",
       "      <td>NaN</td>\n",
       "      <td>53882863</td>\n",
       "    </tr>\n",
       "    <tr>\n",
       "      <th>85568</th>\n",
       "      <td>5611201</td>\n",
       "      <td>NaN</td>\n",
       "      <td>53883193</td>\n",
       "    </tr>\n",
       "    <tr>\n",
       "      <th>85569</th>\n",
       "      <td>8592999</td>\n",
       "      <td>NaN</td>\n",
       "      <td>53884161</td>\n",
       "    </tr>\n",
       "    <tr>\n",
       "      <th>85570</th>\n",
       "      <td>8599699</td>\n",
       "      <td>NaN</td>\n",
       "      <td>53884195</td>\n",
       "    </tr>\n",
       "  </tbody>\n",
       "</table>\n",
       "<p>84031 rows × 3 columns</p>\n",
       "</div>"
      ],
      "text/plain": [
       "       CNAE FISCAL PRINCIPAL              NOME FANTASIA  CNPJ BÁSICO\n",
       "0                    9602501            MULHER CHEIROSA     72074933\n",
       "1                    4761003  LIVRARIA E PAPELARIA DDED     72117641\n",
       "2                    4783101                        NaN     72117583\n",
       "3                    9601701          LAVANDERIA RITALI     72140619\n",
       "4                    4781400                NILVA MODAS     72178866\n",
       "...                      ...                        ...          ...\n",
       "85566                7311400          INFLUENTE EVENTOS     53882591\n",
       "85567                7319002                        NaN     53882863\n",
       "85568                5611201                        NaN     53883193\n",
       "85569                8592999                        NaN     53884161\n",
       "85570                8599699                        NaN     53884195\n",
       "\n",
       "[84031 rows x 3 columns]"
      ]
     },
     "execution_count": 47,
     "metadata": {},
     "output_type": "execute_result"
    }
   ],
   "source": [
    "df_cnai_nomes"
   ]
  },
  {
   "cell_type": "code",
   "execution_count": 48,
   "metadata": {},
   "outputs": [
    {
     "name": "stderr",
     "output_type": "stream",
     "text": [
      "C:\\Users\\USUARIO\\AppData\\Local\\Temp\\ipykernel_16864\\719011003.py:1: SettingWithCopyWarning: \n",
      "A value is trying to be set on a copy of a slice from a DataFrame\n",
      "\n",
      "See the caveats in the documentation: https://pandas.pydata.org/pandas-docs/stable/user_guide/indexing.html#returning-a-view-versus-a-copy\n",
      "  df_cnai_nomes.dropna(inplace=True, subset=['NOME FANTASIA'])\n"
     ]
    }
   ],
   "source": [
    "df_cnai_nomes.dropna(inplace=True, subset=['NOME FANTASIA'])"
   ]
  },
  {
   "cell_type": "code",
   "execution_count": 49,
   "metadata": {},
   "outputs": [
    {
     "data": {
      "text/plain": [
       "NOME FANTASIA\n",
       "False    27861\n",
       "Name: count, dtype: int64"
      ]
     },
     "execution_count": 49,
     "metadata": {},
     "output_type": "execute_result"
    }
   ],
   "source": [
    "df_cnai_nomes['NOME FANTASIA'].isna().value_counts()"
   ]
  },
  {
   "cell_type": "code",
   "execution_count": 50,
   "metadata": {},
   "outputs": [],
   "source": [
    "lista_canais2 = list(df_cnai_nomes['CNAE FISCAL PRINCIPAL'].value_counts().to_dict().keys())\n",
    "lista_quantidades_cnpj2 = list(df_cnai_nomes['CNAE FISCAL PRINCIPAL'].value_counts().to_dict().values())\n",
    "lista_quantidade_cnpj_porcentagens2 = list(df_cnai_nomes['CNAE FISCAL PRINCIPAL'].value_counts(normalize=True).to_dict().values())"
   ]
  },
  {
   "cell_type": "code",
   "execution_count": 51,
   "metadata": {},
   "outputs": [],
   "source": [
    "df_cnpj_por_cnais_ruas = pd.DataFrame({'Cnais':lista_canais2, 'Quantidades_Nomes_fantasia':lista_quantidades_cnpj2, 'Porcentagens_nomes_fantasia':lista_quantidade_cnpj_porcentagens2})"
   ]
  },
  {
   "cell_type": "code",
   "execution_count": 52,
   "metadata": {},
   "outputs": [],
   "source": [
    "df_cnpj_por_cnais_ruas['porcentagens_acumuladas'] = df_cnpj_por_cnais_ruas['Porcentagens_nomes_fantasia'].cumsum()"
   ]
  },
  {
   "cell_type": "code",
   "execution_count": 53,
   "metadata": {},
   "outputs": [
    {
     "data": {
      "text/html": [
       "<div>\n",
       "<style scoped>\n",
       "    .dataframe tbody tr th:only-of-type {\n",
       "        vertical-align: middle;\n",
       "    }\n",
       "\n",
       "    .dataframe tbody tr th {\n",
       "        vertical-align: top;\n",
       "    }\n",
       "\n",
       "    .dataframe thead th {\n",
       "        text-align: right;\n",
       "    }\n",
       "</style>\n",
       "<table border=\"1\" class=\"dataframe\">\n",
       "  <thead>\n",
       "    <tr style=\"text-align: right;\">\n",
       "      <th></th>\n",
       "      <th>Cnais</th>\n",
       "      <th>Quantidades_Nomes_fantasia</th>\n",
       "      <th>Porcentagens_nomes_fantasia</th>\n",
       "      <th>porcentagens_acumuladas</th>\n",
       "    </tr>\n",
       "  </thead>\n",
       "  <tbody>\n",
       "    <tr>\n",
       "      <th>0</th>\n",
       "      <td>8211300</td>\n",
       "      <td>978</td>\n",
       "      <td>0.035103</td>\n",
       "      <td>0.035103</td>\n",
       "    </tr>\n",
       "    <tr>\n",
       "      <th>1</th>\n",
       "      <td>4781400</td>\n",
       "      <td>893</td>\n",
       "      <td>0.032052</td>\n",
       "      <td>0.067155</td>\n",
       "    </tr>\n",
       "    <tr>\n",
       "      <th>2</th>\n",
       "      <td>5611201</td>\n",
       "      <td>779</td>\n",
       "      <td>0.027960</td>\n",
       "      <td>0.095115</td>\n",
       "    </tr>\n",
       "    <tr>\n",
       "      <th>3</th>\n",
       "      <td>4120400</td>\n",
       "      <td>678</td>\n",
       "      <td>0.024335</td>\n",
       "      <td>0.119450</td>\n",
       "    </tr>\n",
       "    <tr>\n",
       "      <th>4</th>\n",
       "      <td>4712100</td>\n",
       "      <td>597</td>\n",
       "      <td>0.021428</td>\n",
       "      <td>0.140878</td>\n",
       "    </tr>\n",
       "    <tr>\n",
       "      <th>...</th>\n",
       "      <td>...</td>\n",
       "      <td>...</td>\n",
       "      <td>...</td>\n",
       "      <td>...</td>\n",
       "    </tr>\n",
       "    <tr>\n",
       "      <th>838</th>\n",
       "      <td>4632002</td>\n",
       "      <td>1</td>\n",
       "      <td>0.000036</td>\n",
       "      <td>0.999856</td>\n",
       "    </tr>\n",
       "    <tr>\n",
       "      <th>839</th>\n",
       "      <td>1610204</td>\n",
       "      <td>1</td>\n",
       "      <td>0.000036</td>\n",
       "      <td>0.999892</td>\n",
       "    </tr>\n",
       "    <tr>\n",
       "      <th>840</th>\n",
       "      <td>725100</td>\n",
       "      <td>1</td>\n",
       "      <td>0.000036</td>\n",
       "      <td>0.999928</td>\n",
       "    </tr>\n",
       "    <tr>\n",
       "      <th>841</th>\n",
       "      <td>3091101</td>\n",
       "      <td>1</td>\n",
       "      <td>0.000036</td>\n",
       "      <td>0.999964</td>\n",
       "    </tr>\n",
       "    <tr>\n",
       "      <th>842</th>\n",
       "      <td>8299705</td>\n",
       "      <td>1</td>\n",
       "      <td>0.000036</td>\n",
       "      <td>1.000000</td>\n",
       "    </tr>\n",
       "  </tbody>\n",
       "</table>\n",
       "<p>843 rows × 4 columns</p>\n",
       "</div>"
      ],
      "text/plain": [
       "       Cnais  Quantidades_Nomes_fantasia  Porcentagens_nomes_fantasia  \\\n",
       "0    8211300                         978                     0.035103   \n",
       "1    4781400                         893                     0.032052   \n",
       "2    5611201                         779                     0.027960   \n",
       "3    4120400                         678                     0.024335   \n",
       "4    4712100                         597                     0.021428   \n",
       "..       ...                         ...                          ...   \n",
       "838  4632002                           1                     0.000036   \n",
       "839  1610204                           1                     0.000036   \n",
       "840   725100                           1                     0.000036   \n",
       "841  3091101                           1                     0.000036   \n",
       "842  8299705                           1                     0.000036   \n",
       "\n",
       "     porcentagens_acumuladas  \n",
       "0                   0.035103  \n",
       "1                   0.067155  \n",
       "2                   0.095115  \n",
       "3                   0.119450  \n",
       "4                   0.140878  \n",
       "..                       ...  \n",
       "838                 0.999856  \n",
       "839                 0.999892  \n",
       "840                 0.999928  \n",
       "841                 0.999964  \n",
       "842                 1.000000  \n",
       "\n",
       "[843 rows x 4 columns]"
      ]
     },
     "execution_count": 53,
     "metadata": {},
     "output_type": "execute_result"
    }
   ],
   "source": [
    "df_cnpj_por_cnais_ruas"
   ]
  },
  {
   "cell_type": "code",
   "execution_count": 54,
   "metadata": {},
   "outputs": [],
   "source": [
    "df_filtrado_06 = df_cnpj_por_cnais_ruas[df_cnpj_por_cnais_ruas['porcentagens_acumuladas']<=0.6]"
   ]
  },
  {
   "cell_type": "code",
   "execution_count": 55,
   "metadata": {},
   "outputs": [
    {
     "data": {
      "text/html": [
       "<div>\n",
       "<style scoped>\n",
       "    .dataframe tbody tr th:only-of-type {\n",
       "        vertical-align: middle;\n",
       "    }\n",
       "\n",
       "    .dataframe tbody tr th {\n",
       "        vertical-align: top;\n",
       "    }\n",
       "\n",
       "    .dataframe thead th {\n",
       "        text-align: right;\n",
       "    }\n",
       "</style>\n",
       "<table border=\"1\" class=\"dataframe\">\n",
       "  <thead>\n",
       "    <tr style=\"text-align: right;\">\n",
       "      <th></th>\n",
       "      <th>Cnais</th>\n",
       "      <th>Quantidades_Nomes_fantasia</th>\n",
       "      <th>Porcentagens_nomes_fantasia</th>\n",
       "      <th>porcentagens_acumuladas</th>\n",
       "    </tr>\n",
       "  </thead>\n",
       "  <tbody>\n",
       "    <tr>\n",
       "      <th>0</th>\n",
       "      <td>8211300</td>\n",
       "      <td>978</td>\n",
       "      <td>0.035103</td>\n",
       "      <td>0.035103</td>\n",
       "    </tr>\n",
       "    <tr>\n",
       "      <th>1</th>\n",
       "      <td>4781400</td>\n",
       "      <td>893</td>\n",
       "      <td>0.032052</td>\n",
       "      <td>0.067155</td>\n",
       "    </tr>\n",
       "    <tr>\n",
       "      <th>2</th>\n",
       "      <td>5611201</td>\n",
       "      <td>779</td>\n",
       "      <td>0.027960</td>\n",
       "      <td>0.095115</td>\n",
       "    </tr>\n",
       "    <tr>\n",
       "      <th>3</th>\n",
       "      <td>4120400</td>\n",
       "      <td>678</td>\n",
       "      <td>0.024335</td>\n",
       "      <td>0.119450</td>\n",
       "    </tr>\n",
       "    <tr>\n",
       "      <th>4</th>\n",
       "      <td>4712100</td>\n",
       "      <td>597</td>\n",
       "      <td>0.021428</td>\n",
       "      <td>0.140878</td>\n",
       "    </tr>\n",
       "    <tr>\n",
       "      <th>...</th>\n",
       "      <td>...</td>\n",
       "      <td>...</td>\n",
       "      <td>...</td>\n",
       "      <td>...</td>\n",
       "    </tr>\n",
       "    <tr>\n",
       "      <th>59</th>\n",
       "      <td>4755502</td>\n",
       "      <td>118</td>\n",
       "      <td>0.004235</td>\n",
       "      <td>0.582965</td>\n",
       "    </tr>\n",
       "    <tr>\n",
       "      <th>60</th>\n",
       "      <td>9511800</td>\n",
       "      <td>115</td>\n",
       "      <td>0.004128</td>\n",
       "      <td>0.587093</td>\n",
       "    </tr>\n",
       "    <tr>\n",
       "      <th>61</th>\n",
       "      <td>8650004</td>\n",
       "      <td>114</td>\n",
       "      <td>0.004092</td>\n",
       "      <td>0.591185</td>\n",
       "    </tr>\n",
       "    <tr>\n",
       "      <th>62</th>\n",
       "      <td>4541206</td>\n",
       "      <td>108</td>\n",
       "      <td>0.003876</td>\n",
       "      <td>0.595061</td>\n",
       "    </tr>\n",
       "    <tr>\n",
       "      <th>63</th>\n",
       "      <td>8513900</td>\n",
       "      <td>108</td>\n",
       "      <td>0.003876</td>\n",
       "      <td>0.598938</td>\n",
       "    </tr>\n",
       "  </tbody>\n",
       "</table>\n",
       "<p>64 rows × 4 columns</p>\n",
       "</div>"
      ],
      "text/plain": [
       "      Cnais  Quantidades_Nomes_fantasia  Porcentagens_nomes_fantasia  \\\n",
       "0   8211300                         978                     0.035103   \n",
       "1   4781400                         893                     0.032052   \n",
       "2   5611201                         779                     0.027960   \n",
       "3   4120400                         678                     0.024335   \n",
       "4   4712100                         597                     0.021428   \n",
       "..      ...                         ...                          ...   \n",
       "59  4755502                         118                     0.004235   \n",
       "60  9511800                         115                     0.004128   \n",
       "61  8650004                         114                     0.004092   \n",
       "62  4541206                         108                     0.003876   \n",
       "63  8513900                         108                     0.003876   \n",
       "\n",
       "    porcentagens_acumuladas  \n",
       "0                  0.035103  \n",
       "1                  0.067155  \n",
       "2                  0.095115  \n",
       "3                  0.119450  \n",
       "4                  0.140878  \n",
       "..                      ...  \n",
       "59                 0.582965  \n",
       "60                 0.587093  \n",
       "61                 0.591185  \n",
       "62                 0.595061  \n",
       "63                 0.598938  \n",
       "\n",
       "[64 rows x 4 columns]"
      ]
     },
     "execution_count": 55,
     "metadata": {},
     "output_type": "execute_result"
    }
   ],
   "source": [
    "df_filtrado_06"
   ]
  },
  {
   "cell_type": "code",
   "execution_count": 56,
   "metadata": {},
   "outputs": [],
   "source": [
    "df_mesclado = pd.merge(df_filtrado_06, df_cnai_nomes, how = 'inner', left_on = 'Cnais', right_on='CNAE FISCAL PRINCIPAL')"
   ]
  },
  {
   "cell_type": "code",
   "execution_count": 57,
   "metadata": {},
   "outputs": [
    {
     "data": {
      "text/html": [
       "<div>\n",
       "<style scoped>\n",
       "    .dataframe tbody tr th:only-of-type {\n",
       "        vertical-align: middle;\n",
       "    }\n",
       "\n",
       "    .dataframe tbody tr th {\n",
       "        vertical-align: top;\n",
       "    }\n",
       "\n",
       "    .dataframe thead th {\n",
       "        text-align: right;\n",
       "    }\n",
       "</style>\n",
       "<table border=\"1\" class=\"dataframe\">\n",
       "  <thead>\n",
       "    <tr style=\"text-align: right;\">\n",
       "      <th></th>\n",
       "      <th>Cnais</th>\n",
       "      <th>Quantidades_Nomes_fantasia</th>\n",
       "      <th>Porcentagens_nomes_fantasia</th>\n",
       "      <th>porcentagens_acumuladas</th>\n",
       "      <th>CNAE FISCAL PRINCIPAL</th>\n",
       "      <th>NOME FANTASIA</th>\n",
       "      <th>CNPJ BÁSICO</th>\n",
       "    </tr>\n",
       "  </thead>\n",
       "  <tbody>\n",
       "    <tr>\n",
       "      <th>0</th>\n",
       "      <td>8211300</td>\n",
       "      <td>978</td>\n",
       "      <td>0.035103</td>\n",
       "      <td>0.035103</td>\n",
       "      <td>8211300</td>\n",
       "      <td>NOVAS TENDENCIAS REPRESENTACOES COMERCIAIS</td>\n",
       "      <td>72473770</td>\n",
       "    </tr>\n",
       "    <tr>\n",
       "      <th>1</th>\n",
       "      <td>8211300</td>\n",
       "      <td>978</td>\n",
       "      <td>0.035103</td>\n",
       "      <td>0.035103</td>\n",
       "      <td>8211300</td>\n",
       "      <td>VIRTUAL CARD</td>\n",
       "      <td>7491318</td>\n",
       "    </tr>\n",
       "    <tr>\n",
       "      <th>2</th>\n",
       "      <td>8211300</td>\n",
       "      <td>978</td>\n",
       "      <td>0.035103</td>\n",
       "      <td>0.035103</td>\n",
       "      <td>8211300</td>\n",
       "      <td>CAPITANIA SERVICOS</td>\n",
       "      <td>7993106</td>\n",
       "    </tr>\n",
       "    <tr>\n",
       "      <th>3</th>\n",
       "      <td>8211300</td>\n",
       "      <td>978</td>\n",
       "      <td>0.035103</td>\n",
       "      <td>0.035103</td>\n",
       "      <td>8211300</td>\n",
       "      <td>CHANGERIE</td>\n",
       "      <td>35225184</td>\n",
       "    </tr>\n",
       "    <tr>\n",
       "      <th>4</th>\n",
       "      <td>8211300</td>\n",
       "      <td>978</td>\n",
       "      <td>0.035103</td>\n",
       "      <td>0.035103</td>\n",
       "      <td>8211300</td>\n",
       "      <td>EFICIENCE CONTABILIDADE E ASSESSORIA</td>\n",
       "      <td>3672939</td>\n",
       "    </tr>\n",
       "    <tr>\n",
       "      <th>...</th>\n",
       "      <td>...</td>\n",
       "      <td>...</td>\n",
       "      <td>...</td>\n",
       "      <td>...</td>\n",
       "      <td>...</td>\n",
       "      <td>...</td>\n",
       "      <td>...</td>\n",
       "    </tr>\n",
       "    <tr>\n",
       "      <th>16682</th>\n",
       "      <td>8513900</td>\n",
       "      <td>108</td>\n",
       "      <td>0.003876</td>\n",
       "      <td>0.598938</td>\n",
       "      <td>8513900</td>\n",
       "      <td>ESCOLA VIVER VALORES - COMECO DO CAMINHO</td>\n",
       "      <td>34701800</td>\n",
       "    </tr>\n",
       "    <tr>\n",
       "      <th>16683</th>\n",
       "      <td>8513900</td>\n",
       "      <td>108</td>\n",
       "      <td>0.003876</td>\n",
       "      <td>0.598938</td>\n",
       "      <td>8513900</td>\n",
       "      <td>COLEGIO 21 DE ABRIL</td>\n",
       "      <td>36519786</td>\n",
       "    </tr>\n",
       "    <tr>\n",
       "      <th>16684</th>\n",
       "      <td>8513900</td>\n",
       "      <td>108</td>\n",
       "      <td>0.003876</td>\n",
       "      <td>0.598938</td>\n",
       "      <td>8513900</td>\n",
       "      <td>COLEGIO GURI SENIOR</td>\n",
       "      <td>34561913</td>\n",
       "    </tr>\n",
       "    <tr>\n",
       "      <th>16685</th>\n",
       "      <td>8513900</td>\n",
       "      <td>108</td>\n",
       "      <td>0.003876</td>\n",
       "      <td>0.598938</td>\n",
       "      <td>8513900</td>\n",
       "      <td>UNIC</td>\n",
       "      <td>44580130</td>\n",
       "    </tr>\n",
       "    <tr>\n",
       "      <th>16686</th>\n",
       "      <td>8513900</td>\n",
       "      <td>108</td>\n",
       "      <td>0.003876</td>\n",
       "      <td>0.598938</td>\n",
       "      <td>8513900</td>\n",
       "      <td>COLEGIO JOSE NUNES DE MORAIS</td>\n",
       "      <td>47108730</td>\n",
       "    </tr>\n",
       "  </tbody>\n",
       "</table>\n",
       "<p>16687 rows × 7 columns</p>\n",
       "</div>"
      ],
      "text/plain": [
       "         Cnais  Quantidades_Nomes_fantasia  Porcentagens_nomes_fantasia  \\\n",
       "0      8211300                         978                     0.035103   \n",
       "1      8211300                         978                     0.035103   \n",
       "2      8211300                         978                     0.035103   \n",
       "3      8211300                         978                     0.035103   \n",
       "4      8211300                         978                     0.035103   \n",
       "...        ...                         ...                          ...   \n",
       "16682  8513900                         108                     0.003876   \n",
       "16683  8513900                         108                     0.003876   \n",
       "16684  8513900                         108                     0.003876   \n",
       "16685  8513900                         108                     0.003876   \n",
       "16686  8513900                         108                     0.003876   \n",
       "\n",
       "       porcentagens_acumuladas  CNAE FISCAL PRINCIPAL  \\\n",
       "0                     0.035103                8211300   \n",
       "1                     0.035103                8211300   \n",
       "2                     0.035103                8211300   \n",
       "3                     0.035103                8211300   \n",
       "4                     0.035103                8211300   \n",
       "...                        ...                    ...   \n",
       "16682                 0.598938                8513900   \n",
       "16683                 0.598938                8513900   \n",
       "16684                 0.598938                8513900   \n",
       "16685                 0.598938                8513900   \n",
       "16686                 0.598938                8513900   \n",
       "\n",
       "                                    NOME FANTASIA  CNPJ BÁSICO  \n",
       "0      NOVAS TENDENCIAS REPRESENTACOES COMERCIAIS     72473770  \n",
       "1                                    VIRTUAL CARD      7491318  \n",
       "2                              CAPITANIA SERVICOS      7993106  \n",
       "3                                       CHANGERIE     35225184  \n",
       "4            EFICIENCE CONTABILIDADE E ASSESSORIA      3672939  \n",
       "...                                           ...          ...  \n",
       "16682    ESCOLA VIVER VALORES - COMECO DO CAMINHO     34701800  \n",
       "16683                         COLEGIO 21 DE ABRIL     36519786  \n",
       "16684                         COLEGIO GURI SENIOR     34561913  \n",
       "16685                                        UNIC     44580130  \n",
       "16686                COLEGIO JOSE NUNES DE MORAIS     47108730  \n",
       "\n",
       "[16687 rows x 7 columns]"
      ]
     },
     "execution_count": 57,
     "metadata": {},
     "output_type": "execute_result"
    }
   ],
   "source": [
    "# df_mesclado"
   ]
  },
  {
   "cell_type": "markdown",
   "metadata": {},
   "source": [
    "# df[cnpj,nome fantasia, cnai, endereco, lat, lon]"
   ]
  },
  {
   "cell_type": "code",
   "execution_count": 58,
   "metadata": {},
   "outputs": [],
   "source": [
    "df_final = pd.DataFrame()"
   ]
  },
  {
   "cell_type": "code",
   "execution_count": 19,
   "metadata": {},
   "outputs": [],
   "source": [
    "df_final = df_mesclado[['CNPJ BÁSICO', 'NOME FANTASIA', 'CNAE FISCAL PRINCIPAL']]"
   ]
  },
  {
   "cell_type": "code",
   "execution_count": 59,
   "metadata": {},
   "outputs": [
    {
     "data": {
      "text/plain": [
       "Index(['Cnais', 'Quantidades_Nomes_fantasia', 'Porcentagens_nomes_fantasia',\n",
       "       'porcentagens_acumuladas', 'CNAE FISCAL PRINCIPAL', 'NOME FANTASIA',\n",
       "       'CNPJ BÁSICO'],\n",
       "      dtype='object')"
      ]
     },
     "execution_count": 59,
     "metadata": {},
     "output_type": "execute_result"
    }
   ],
   "source": [
    "df_mesclado.columns"
   ]
  },
  {
   "cell_type": "code",
   "execution_count": 60,
   "metadata": {},
   "outputs": [
    {
     "ename": "KeyError",
     "evalue": "'LOGRADOURO'",
     "output_type": "error",
     "traceback": [
      "\u001b[1;31m---------------------------------------------------------------------------\u001b[0m",
      "\u001b[1;31mKeyError\u001b[0m                                  Traceback (most recent call last)",
      "File \u001b[1;32mc:\\Users\\USUARIO\\anaconda3\\envs\\py-env\\Lib\\site-packages\\pandas\\core\\indexes\\base.py:3805\u001b[0m, in \u001b[0;36mIndex.get_loc\u001b[1;34m(self, key)\u001b[0m\n\u001b[0;32m   3804\u001b[0m \u001b[38;5;28;01mtry\u001b[39;00m:\n\u001b[1;32m-> 3805\u001b[0m     \u001b[38;5;28;01mreturn\u001b[39;00m \u001b[38;5;28mself\u001b[39m\u001b[38;5;241m.\u001b[39m_engine\u001b[38;5;241m.\u001b[39mget_loc(casted_key)\n\u001b[0;32m   3806\u001b[0m \u001b[38;5;28;01mexcept\u001b[39;00m \u001b[38;5;167;01mKeyError\u001b[39;00m \u001b[38;5;28;01mas\u001b[39;00m err:\n",
      "File \u001b[1;32mindex.pyx:167\u001b[0m, in \u001b[0;36mpandas._libs.index.IndexEngine.get_loc\u001b[1;34m()\u001b[0m\n",
      "File \u001b[1;32mindex.pyx:196\u001b[0m, in \u001b[0;36mpandas._libs.index.IndexEngine.get_loc\u001b[1;34m()\u001b[0m\n",
      "File \u001b[1;32mpandas\\\\_libs\\\\hashtable_class_helper.pxi:7081\u001b[0m, in \u001b[0;36mpandas._libs.hashtable.PyObjectHashTable.get_item\u001b[1;34m()\u001b[0m\n",
      "File \u001b[1;32mpandas\\\\_libs\\\\hashtable_class_helper.pxi:7089\u001b[0m, in \u001b[0;36mpandas._libs.hashtable.PyObjectHashTable.get_item\u001b[1;34m()\u001b[0m\n",
      "\u001b[1;31mKeyError\u001b[0m: 'LOGRADOURO'",
      "\nThe above exception was the direct cause of the following exception:\n",
      "\u001b[1;31mKeyError\u001b[0m                                  Traceback (most recent call last)",
      "Cell \u001b[1;32mIn[60], line 3\u001b[0m\n\u001b[0;32m      1\u001b[0m lista_enderecos_completos \u001b[38;5;241m=\u001b[39m []\n\u001b[0;32m      2\u001b[0m \u001b[38;5;28;01mfor\u001b[39;00m i \u001b[38;5;129;01min\u001b[39;00m \u001b[38;5;28mrange\u001b[39m(\u001b[38;5;28mlen\u001b[39m(df_mesclado)):\n\u001b[1;32m----> 3\u001b[0m     rua \u001b[38;5;241m=\u001b[39m \u001b[38;5;28mstr\u001b[39m(df_mesclado[\u001b[38;5;124m'\u001b[39m\u001b[38;5;124mLOGRADOURO\u001b[39m\u001b[38;5;124m'\u001b[39m][i])\n\u001b[0;32m      4\u001b[0m     numero \u001b[38;5;241m=\u001b[39m \u001b[38;5;28mstr\u001b[39m(df_mesclado[\u001b[38;5;124m'\u001b[39m\u001b[38;5;124mNÚMERO\u001b[39m\u001b[38;5;124m'\u001b[39m][i])\n\u001b[0;32m      5\u001b[0m     bairro \u001b[38;5;241m=\u001b[39m \u001b[38;5;28mstr\u001b[39m(df_mesclado[\u001b[38;5;124m'\u001b[39m\u001b[38;5;124mBAIRRO\u001b[39m\u001b[38;5;124m'\u001b[39m][i])\n",
      "File \u001b[1;32mc:\\Users\\USUARIO\\anaconda3\\envs\\py-env\\Lib\\site-packages\\pandas\\core\\frame.py:4090\u001b[0m, in \u001b[0;36mDataFrame.__getitem__\u001b[1;34m(self, key)\u001b[0m\n\u001b[0;32m   4088\u001b[0m \u001b[38;5;28;01mif\u001b[39;00m \u001b[38;5;28mself\u001b[39m\u001b[38;5;241m.\u001b[39mcolumns\u001b[38;5;241m.\u001b[39mnlevels \u001b[38;5;241m>\u001b[39m \u001b[38;5;241m1\u001b[39m:\n\u001b[0;32m   4089\u001b[0m     \u001b[38;5;28;01mreturn\u001b[39;00m \u001b[38;5;28mself\u001b[39m\u001b[38;5;241m.\u001b[39m_getitem_multilevel(key)\n\u001b[1;32m-> 4090\u001b[0m indexer \u001b[38;5;241m=\u001b[39m \u001b[38;5;28mself\u001b[39m\u001b[38;5;241m.\u001b[39mcolumns\u001b[38;5;241m.\u001b[39mget_loc(key)\n\u001b[0;32m   4091\u001b[0m \u001b[38;5;28;01mif\u001b[39;00m is_integer(indexer):\n\u001b[0;32m   4092\u001b[0m     indexer \u001b[38;5;241m=\u001b[39m [indexer]\n",
      "File \u001b[1;32mc:\\Users\\USUARIO\\anaconda3\\envs\\py-env\\Lib\\site-packages\\pandas\\core\\indexes\\base.py:3812\u001b[0m, in \u001b[0;36mIndex.get_loc\u001b[1;34m(self, key)\u001b[0m\n\u001b[0;32m   3807\u001b[0m     \u001b[38;5;28;01mif\u001b[39;00m \u001b[38;5;28misinstance\u001b[39m(casted_key, \u001b[38;5;28mslice\u001b[39m) \u001b[38;5;129;01mor\u001b[39;00m (\n\u001b[0;32m   3808\u001b[0m         \u001b[38;5;28misinstance\u001b[39m(casted_key, abc\u001b[38;5;241m.\u001b[39mIterable)\n\u001b[0;32m   3809\u001b[0m         \u001b[38;5;129;01mand\u001b[39;00m \u001b[38;5;28many\u001b[39m(\u001b[38;5;28misinstance\u001b[39m(x, \u001b[38;5;28mslice\u001b[39m) \u001b[38;5;28;01mfor\u001b[39;00m x \u001b[38;5;129;01min\u001b[39;00m casted_key)\n\u001b[0;32m   3810\u001b[0m     ):\n\u001b[0;32m   3811\u001b[0m         \u001b[38;5;28;01mraise\u001b[39;00m InvalidIndexError(key)\n\u001b[1;32m-> 3812\u001b[0m     \u001b[38;5;28;01mraise\u001b[39;00m \u001b[38;5;167;01mKeyError\u001b[39;00m(key) \u001b[38;5;28;01mfrom\u001b[39;00m \u001b[38;5;21;01merr\u001b[39;00m\n\u001b[0;32m   3813\u001b[0m \u001b[38;5;28;01mexcept\u001b[39;00m \u001b[38;5;167;01mTypeError\u001b[39;00m:\n\u001b[0;32m   3814\u001b[0m     \u001b[38;5;66;03m# If we have a listlike key, _check_indexing_error will raise\u001b[39;00m\n\u001b[0;32m   3815\u001b[0m     \u001b[38;5;66;03m#  InvalidIndexError. Otherwise we fall through and re-raise\u001b[39;00m\n\u001b[0;32m   3816\u001b[0m     \u001b[38;5;66;03m#  the TypeError.\u001b[39;00m\n\u001b[0;32m   3817\u001b[0m     \u001b[38;5;28mself\u001b[39m\u001b[38;5;241m.\u001b[39m_check_indexing_error(key)\n",
      "\u001b[1;31mKeyError\u001b[0m: 'LOGRADOURO'"
     ]
    }
   ],
   "source": [
    "lista_enderecos_completos = []\n",
    "for i in range(len(df_mesclado)):\n",
    "    rua = str(df_mesclado['LOGRADOURO'][i])\n",
    "    numero = str(df_mesclado['NÚMERO'][i])\n",
    "    bairro = str(df_mesclado['BAIRRO'][i])\n",
    "    cep = str(df_mesclado['CEP'][i])\n",
    "    uf = str(df_mesclado['UF'][i])\n",
    "    endereco_completo = str(rua+' ,'+numero+' - '+bairro+' ,'+'FORTALEZA'+' - '+uf+ ', '+cep)\n",
    "    lista_enderecos_completos.append(endereco_completo)"
   ]
  },
  {
   "cell_type": "code",
   "execution_count": 23,
   "metadata": {},
   "outputs": [
    {
     "name": "stderr",
     "output_type": "stream",
     "text": [
      "C:\\Users\\USUARIO\\AppData\\Local\\Temp\\ipykernel_13720\\392542961.py:1: SettingWithCopyWarning: \n",
      "A value is trying to be set on a copy of a slice from a DataFrame.\n",
      "Try using .loc[row_indexer,col_indexer] = value instead\n",
      "\n",
      "See the caveats in the documentation: https://pandas.pydata.org/pandas-docs/stable/user_guide/indexing.html#returning-a-view-versus-a-copy\n",
      "  df_final['EMDERECO COMPLETO'] = lista_enderecos_completos\n"
     ]
    }
   ],
   "source": [
    "df_final['EMDERECO COMPLETO'] = lista_enderecos_completos"
   ]
  },
  {
   "cell_type": "code",
   "execution_count": 25,
   "metadata": {},
   "outputs": [
    {
     "data": {
      "text/plain": [
       "'GUILHERME ROCHA ,218 - CENTRO ,FORTALEZA - CE, 60030140'"
      ]
     },
     "execution_count": 25,
     "metadata": {},
     "output_type": "execute_result"
    }
   ],
   "source": [
    "df_final['EMDERECO COMPLETO'][0]"
   ]
  },
  {
   "cell_type": "code",
   "execution_count": 26,
   "metadata": {},
   "outputs": [],
   "source": [
    "lista = []\n",
    "for i  in range(len(df_final)):\n",
    "    lista.append(i)"
   ]
  },
  {
   "cell_type": "code",
   "execution_count": 27,
   "metadata": {},
   "outputs": [
    {
     "name": "stderr",
     "output_type": "stream",
     "text": [
      "C:\\Users\\USUARIO\\AppData\\Local\\Temp\\ipykernel_13720\\3896292336.py:1: SettingWithCopyWarning: \n",
      "A value is trying to be set on a copy of a slice from a DataFrame.\n",
      "Try using .loc[row_indexer,col_indexer] = value instead\n",
      "\n",
      "See the caveats in the documentation: https://pandas.pydata.org/pandas-docs/stable/user_guide/indexing.html#returning-a-view-versus-a-copy\n",
      "  df_final['ID'] = lista\n"
     ]
    }
   ],
   "source": [
    "df_final['ID'] = lista"
   ]
  },
  {
   "cell_type": "code",
   "execution_count": 28,
   "metadata": {},
   "outputs": [
    {
     "data": {
      "text/html": [
       "<div>\n",
       "<style scoped>\n",
       "    .dataframe tbody tr th:only-of-type {\n",
       "        vertical-align: middle;\n",
       "    }\n",
       "\n",
       "    .dataframe tbody tr th {\n",
       "        vertical-align: top;\n",
       "    }\n",
       "\n",
       "    .dataframe thead th {\n",
       "        text-align: right;\n",
       "    }\n",
       "</style>\n",
       "<table border=\"1\" class=\"dataframe\">\n",
       "  <thead>\n",
       "    <tr style=\"text-align: right;\">\n",
       "      <th></th>\n",
       "      <th>CNPJ BÁSICO</th>\n",
       "      <th>NOME FANTASIA</th>\n",
       "      <th>CNAE FISCAL PRINCIPAL</th>\n",
       "      <th>EMDERECO COMPLETO</th>\n",
       "      <th>ID</th>\n",
       "    </tr>\n",
       "  </thead>\n",
       "  <tbody>\n",
       "    <tr>\n",
       "      <th>0</th>\n",
       "      <td>72473770</td>\n",
       "      <td>NOVAS TENDENCIAS REPRESENTACOES COMERCIAIS</td>\n",
       "      <td>8211300</td>\n",
       "      <td>GUILHERME ROCHA ,218 - CENTRO ,FORTALEZA - CE,...</td>\n",
       "      <td>0</td>\n",
       "    </tr>\n",
       "    <tr>\n",
       "      <th>1</th>\n",
       "      <td>7491318</td>\n",
       "      <td>VIRTUAL CARD</td>\n",
       "      <td>8211300</td>\n",
       "      <td>JORNALISTA THOMAZ COELHO ,1678 - MESSEJANA ,FO...</td>\n",
       "      <td>1</td>\n",
       "    </tr>\n",
       "    <tr>\n",
       "      <th>2</th>\n",
       "      <td>7497856</td>\n",
       "      <td>NaN</td>\n",
       "      <td>8211300</td>\n",
       "      <td>NOGUEIRA ACIOLI ,996 - CENTRO ,FORTALEZA - CE,...</td>\n",
       "      <td>2</td>\n",
       "    </tr>\n",
       "    <tr>\n",
       "      <th>3</th>\n",
       "      <td>6819700</td>\n",
       "      <td>NaN</td>\n",
       "      <td>8211300</td>\n",
       "      <td>SAO PAULO ,32 - CENTRO ,FORTALEZA - CE, 60030100</td>\n",
       "      <td>3</td>\n",
       "    </tr>\n",
       "    <tr>\n",
       "      <th>4</th>\n",
       "      <td>7993106</td>\n",
       "      <td>CAPITANIA SERVICOS</td>\n",
       "      <td>8211300</td>\n",
       "      <td>TARCISIO BONFIM ,219 - PAPICU ,FORTALEZA - CE,...</td>\n",
       "      <td>4</td>\n",
       "    </tr>\n",
       "    <tr>\n",
       "      <th>...</th>\n",
       "      <td>...</td>\n",
       "      <td>...</td>\n",
       "      <td>...</td>\n",
       "      <td>...</td>\n",
       "      <td>...</td>\n",
       "    </tr>\n",
       "    <tr>\n",
       "      <th>48615</th>\n",
       "      <td>34701800</td>\n",
       "      <td>ESCOLA VIVER VALORES - COMECO DO CAMINHO</td>\n",
       "      <td>8513900</td>\n",
       "      <td>ANA BRITO ,913 - MONDUBIM ,FORTALEZA - CE, 607...</td>\n",
       "      <td>48615</td>\n",
       "    </tr>\n",
       "    <tr>\n",
       "      <th>48616</th>\n",
       "      <td>36519786</td>\n",
       "      <td>COLEGIO 21 DE ABRIL</td>\n",
       "      <td>8513900</td>\n",
       "      <td>BEZERRA DE MENEZES ,620 - SAO GERARDO ,FORTALE...</td>\n",
       "      <td>48616</td>\n",
       "    </tr>\n",
       "    <tr>\n",
       "      <th>48617</th>\n",
       "      <td>34561913</td>\n",
       "      <td>COLEGIO GURI SENIOR</td>\n",
       "      <td>8513900</td>\n",
       "      <td>CONEGO DE CASTRO ,1820 - VILA PERY ,FORTALEZA ...</td>\n",
       "      <td>48617</td>\n",
       "    </tr>\n",
       "    <tr>\n",
       "      <th>48618</th>\n",
       "      <td>44580130</td>\n",
       "      <td>UNIC</td>\n",
       "      <td>8513900</td>\n",
       "      <td>COSTA SOUSA ,217 - BENFICA ,FORTALEZA - CE, 60...</td>\n",
       "      <td>48618</td>\n",
       "    </tr>\n",
       "    <tr>\n",
       "      <th>48619</th>\n",
       "      <td>47108730</td>\n",
       "      <td>COLEGIO JOSE NUNES DE MORAIS</td>\n",
       "      <td>8513900</td>\n",
       "      <td>GENERAL ROMMEL ,530 - BOA VISTA / CASTELAO ,FO...</td>\n",
       "      <td>48619</td>\n",
       "    </tr>\n",
       "  </tbody>\n",
       "</table>\n",
       "<p>48620 rows × 5 columns</p>\n",
       "</div>"
      ],
      "text/plain": [
       "       CNPJ BÁSICO                               NOME FANTASIA  \\\n",
       "0         72473770  NOVAS TENDENCIAS REPRESENTACOES COMERCIAIS   \n",
       "1          7491318                                VIRTUAL CARD   \n",
       "2          7497856                                         NaN   \n",
       "3          6819700                                         NaN   \n",
       "4          7993106                          CAPITANIA SERVICOS   \n",
       "...            ...                                         ...   \n",
       "48615     34701800    ESCOLA VIVER VALORES - COMECO DO CAMINHO   \n",
       "48616     36519786                         COLEGIO 21 DE ABRIL   \n",
       "48617     34561913                         COLEGIO GURI SENIOR   \n",
       "48618     44580130                                        UNIC   \n",
       "48619     47108730                COLEGIO JOSE NUNES DE MORAIS   \n",
       "\n",
       "       CNAE FISCAL PRINCIPAL  \\\n",
       "0                    8211300   \n",
       "1                    8211300   \n",
       "2                    8211300   \n",
       "3                    8211300   \n",
       "4                    8211300   \n",
       "...                      ...   \n",
       "48615                8513900   \n",
       "48616                8513900   \n",
       "48617                8513900   \n",
       "48618                8513900   \n",
       "48619                8513900   \n",
       "\n",
       "                                       EMDERECO COMPLETO     ID  \n",
       "0      GUILHERME ROCHA ,218 - CENTRO ,FORTALEZA - CE,...      0  \n",
       "1      JORNALISTA THOMAZ COELHO ,1678 - MESSEJANA ,FO...      1  \n",
       "2      NOGUEIRA ACIOLI ,996 - CENTRO ,FORTALEZA - CE,...      2  \n",
       "3       SAO PAULO ,32 - CENTRO ,FORTALEZA - CE, 60030100      3  \n",
       "4      TARCISIO BONFIM ,219 - PAPICU ,FORTALEZA - CE,...      4  \n",
       "...                                                  ...    ...  \n",
       "48615  ANA BRITO ,913 - MONDUBIM ,FORTALEZA - CE, 607...  48615  \n",
       "48616  BEZERRA DE MENEZES ,620 - SAO GERARDO ,FORTALE...  48616  \n",
       "48617  CONEGO DE CASTRO ,1820 - VILA PERY ,FORTALEZA ...  48617  \n",
       "48618  COSTA SOUSA ,217 - BENFICA ,FORTALEZA - CE, 60...  48618  \n",
       "48619  GENERAL ROMMEL ,530 - BOA VISTA / CASTELAO ,FO...  48619  \n",
       "\n",
       "[48620 rows x 5 columns]"
      ]
     },
     "execution_count": 28,
     "metadata": {},
     "output_type": "execute_result"
    }
   ],
   "source": [
    "df_final"
   ]
  },
  {
   "cell_type": "code",
   "execution_count": 29,
   "metadata": {},
   "outputs": [
    {
     "name": "stderr",
     "output_type": "stream",
     "text": [
      "<>:1: SyntaxWarning: invalid escape sequence '\\A'\n",
      "<>:1: SyntaxWarning: invalid escape sequence '\\A'\n",
      "C:\\Users\\USUARIO\\AppData\\Local\\Temp\\ipykernel_13720\\2711078460.py:1: SyntaxWarning: invalid escape sequence '\\A'\n",
      "  df_final.to_csv('D:\\AEY HELTH\\df_enderecos.csv', sep = ';', index=False)\n"
     ]
    }
   ],
   "source": [
    "df_final.to_csv('D:\\AEY HELTH\\df_enderecos.csv', sep = ';', index=False)"
   ]
  },
  {
   "cell_type": "code",
   "execution_count": 31,
   "metadata": {},
   "outputs": [],
   "source": [
    "df_lat_lon = pd.DataFrame(columns=list(df_final.columns))"
   ]
  },
  {
   "cell_type": "code",
   "execution_count": 33,
   "metadata": {},
   "outputs": [
    {
     "name": "stderr",
     "output_type": "stream",
     "text": [
      "<>:1: SyntaxWarning: invalid escape sequence '\\A'\n",
      "<>:1: SyntaxWarning: invalid escape sequence '\\A'\n",
      "C:\\Users\\USUARIO\\AppData\\Local\\Temp\\ipykernel_13720\\3559682599.py:1: SyntaxWarning: invalid escape sequence '\\A'\n",
      "  df_lat_lon.to_csv('D:\\AEY HELTH\\df_lat_lon.csv', sep = ';', index=False)\n"
     ]
    }
   ],
   "source": [
    "df_lat_lon.to_csv('D:\\AEY HELTH\\df_lat_lon.csv', sep = ';', index=False)"
   ]
  },
  {
   "cell_type": "markdown",
   "metadata": {},
   "source": [
    "# Lat Lon"
   ]
  },
  {
   "cell_type": "code",
   "execution_count": 26,
   "metadata": {},
   "outputs": [
    {
     "name": "stderr",
     "output_type": "stream",
     "text": [
      "<>:1: SyntaxWarning: invalid escape sequence '\\A'\n",
      "<>:27: SyntaxWarning: invalid escape sequence '\\A'\n",
      "<>:30: SyntaxWarning: invalid escape sequence '\\A'\n",
      "<>:36: SyntaxWarning: invalid escape sequence '\\A'\n",
      "<>:1: SyntaxWarning: invalid escape sequence '\\A'\n",
      "<>:27: SyntaxWarning: invalid escape sequence '\\A'\n",
      "<>:30: SyntaxWarning: invalid escape sequence '\\A'\n",
      "<>:36: SyntaxWarning: invalid escape sequence '\\A'\n",
      "C:\\Users\\USUARIO\\AppData\\Local\\Temp\\ipykernel_16864\\745359146.py:1: SyntaxWarning: invalid escape sequence '\\A'\n",
      "  df_final = pd.read_csv('D:\\AEY HELTH\\dreserva\\df_restantes.csv', sep = ';')\n",
      "C:\\Users\\USUARIO\\AppData\\Local\\Temp\\ipykernel_16864\\745359146.py:27: SyntaxWarning: invalid escape sequence '\\A'\n",
      "  df = pd.read_csv('D:\\AEY HELTH\\dreserva\\df_lat_lon.csv', sep = ';')\n",
      "C:\\Users\\USUARIO\\AppData\\Local\\Temp\\ipykernel_16864\\745359146.py:30: SyntaxWarning: invalid escape sequence '\\A'\n",
      "  df.to_csv('D:\\AEY HELTH\\dreserva\\df_lat_lon.csv', sep = ';')\n",
      "C:\\Users\\USUARIO\\AppData\\Local\\Temp\\ipykernel_16864\\745359146.py:36: SyntaxWarning: invalid escape sequence '\\A'\n",
      "  df_final.to_csv('D:\\AEY HELTH\\dreserva\\df_restantes.csv', sep = ';', index=False)\n",
      "100%|██████████| 10000/10000 [1:57:46<00:00,  1.42it/s] \n"
     ]
    },
    {
     "name": "stdout",
     "output_type": "stream",
     "text": [
      "8525\n",
      "39720\n",
      "8900\n"
     ]
    }
   ],
   "source": [
    "df_final = pd.read_csv('D:\\AEY HELTH\\dreserva\\df_restantes.csv', sep = ';')\n",
    "df_aleatorio = df_final.sample(n=5000)\n",
    "lista_latitude = []\n",
    "lista_longitude = []\n",
    "geolocator = Nominatim(user_agent=\"my_geocoder\")\n",
    "none = 0\n",
    "for endereco in tqdm(df_aleatorio['EMDERECO COMPLETO']):\n",
    "    try:\n",
    "        location = geolocator.geocode(endereco)\n",
    "        if location:\n",
    "            latitude = location.latitude\n",
    "            longitude = location.longitude\n",
    "            lista_latitude.append(latitude)\n",
    "            lista_longitude.append(longitude)\n",
    "        else:\n",
    "            lista_latitude.append(None)\n",
    "            lista_longitude.append(None)\n",
    "            none += 1\n",
    "    except GeocoderUnavailable:\n",
    "        lista_latitude.append(None)\n",
    "        lista_longitude.append(None)\n",
    "        none += 1\n",
    "print(none) \n",
    "df_aleatorio['LAT'] = lista_latitude\n",
    "df_aleatorio['LON'] = lista_longitude\n",
    "df_aleatorio = df_aleatorio[df_aleatorio['LAT'].notna()]\n",
    "df = pd.read_csv('D:\\AEY HELTH\\dreserva\\df_lat_lon.csv', sep = ';')\n",
    "df = pd.concat([df,df_aleatorio], ignore_index=True)\n",
    "print(len(df))\n",
    "df.to_csv('D:\\AEY HELTH\\dreserva\\df_lat_lon.csv', sep = ';')\n",
    "valores_aleatorio = df_aleatorio['ID'].unique()\n",
    "valores_final = df_final['ID'].unique()\n",
    "valores_restantes = list(set(valores_final) - set(valores_aleatorio))\n",
    "df_final = df_final[df_final['ID'].isin(valores_restantes)]\n",
    "print(len(df_final))\n",
    "df_final.to_csv('D:\\AEY HELTH\\dreserva\\df_restantes.csv', sep = ';', index=False)\n"
   ]
  },
  {
   "cell_type": "markdown",
   "metadata": {},
   "source": [
    "# Grafico"
   ]
  },
  {
   "cell_type": "code",
   "execution_count": 27,
   "metadata": {},
   "outputs": [
    {
     "name": "stderr",
     "output_type": "stream",
     "text": [
      "<>:1: SyntaxWarning: invalid escape sequence '\\A'\n",
      "<>:1: SyntaxWarning: invalid escape sequence '\\A'\n",
      "C:\\Users\\USUARIO\\AppData\\Local\\Temp\\ipykernel_16864\\4175474090.py:1: SyntaxWarning: invalid escape sequence '\\A'\n",
      "  df_lat_lon = pd.read_csv('D:\\AEY HELTH\\dreserva\\df_lat_lon.csv', sep = ';')\n"
     ]
    }
   ],
   "source": [
    "df_lat_lon = pd.read_csv('D:\\AEY HELTH\\dreserva\\df_lat_lon.csv', sep = ';')"
   ]
  },
  {
   "cell_type": "code",
   "execution_count": 28,
   "metadata": {},
   "outputs": [],
   "source": [
    "Q1 = df_lat_lon['LAT'].quantile(0.25)\n",
    "Q3 = df_lat_lon['LAT'].quantile(0.75)\n",
    "\n",
    "IQR = Q3 - Q1\n",
    "\n",
    "limite_inferior = Q1 - 1.5 * IQR\n",
    "limite_superior = Q3 + 1.5 * IQR\n",
    "\n",
    "df_sem_outliers = df_lat_lon[(df_lat_lon['LAT'] >= limite_inferior) & (df_lat_lon['LAT'] <= limite_superior)]"
   ]
  },
  {
   "cell_type": "code",
   "execution_count": 29,
   "metadata": {},
   "outputs": [
    {
     "data": {
      "text/plain": [
       "(array([4.000e+01, 5.300e+01, 3.800e+01, 5.200e+01, 5.800e+01, 1.000e+02,\n",
       "        1.080e+02, 1.190e+02, 1.650e+02, 2.030e+02, 2.150e+02, 3.060e+02,\n",
       "        4.240e+02, 5.260e+02, 4.690e+02, 4.550e+02, 4.030e+02, 4.960e+02,\n",
       "        5.410e+02, 6.720e+02, 5.850e+02, 6.880e+02, 7.330e+02, 6.460e+02,\n",
       "        9.140e+02, 8.740e+02, 9.270e+02, 7.720e+02, 7.310e+02, 6.490e+02,\n",
       "        7.570e+02, 8.390e+02, 7.550e+02, 6.930e+02, 9.380e+02, 9.890e+02,\n",
       "        9.930e+02, 1.082e+03, 1.216e+03, 1.312e+03, 1.753e+03, 1.974e+03,\n",
       "        2.553e+03, 2.766e+03, 1.437e+03, 2.278e+03, 1.478e+03, 8.300e+02,\n",
       "        5.450e+02, 5.400e+02, 3.700e+02, 2.170e+02, 1.330e+02, 1.320e+02,\n",
       "        5.800e+01, 1.100e+01, 0.000e+00, 0.000e+00, 0.000e+00, 0.000e+00,\n",
       "        0.000e+00, 0.000e+00, 0.000e+00, 1.000e+00]),\n",
       " array([-3.8762448 , -3.87296223, -3.86967967, -3.8663971 , -3.86311453,\n",
       "        -3.85983197, -3.8565494 , -3.85326684, -3.84998427, -3.8467017 ,\n",
       "        -3.84341914, -3.84013657, -3.836854  , -3.83357144, -3.83028887,\n",
       "        -3.8270063 , -3.82372374, -3.82044117, -3.8171586 , -3.81387604,\n",
       "        -3.81059347, -3.80731091, -3.80402834, -3.80074577, -3.79746321,\n",
       "        -3.79418064, -3.79089807, -3.78761551, -3.78433294, -3.78105037,\n",
       "        -3.77776781, -3.77448524, -3.77120267, -3.76792011, -3.76463754,\n",
       "        -3.76135498, -3.75807241, -3.75478984, -3.75150728, -3.74822471,\n",
       "        -3.74494214, -3.74165958, -3.73837701, -3.73509444, -3.73181188,\n",
       "        -3.72852931, -3.72524675, -3.72196418, -3.71868161, -3.71539905,\n",
       "        -3.71211648, -3.70883391, -3.70555135, -3.70226878, -3.69898621,\n",
       "        -3.69570365, -3.69242108, -3.68913851, -3.68585595, -3.68257338,\n",
       "        -3.67929082, -3.67600825, -3.67272568, -3.66944312, -3.66616055]),\n",
       " <BarContainer object of 64 artists>)"
      ]
     },
     "execution_count": 29,
     "metadata": {},
     "output_type": "execute_result"
    },
    {
     "data": {
      "image/png": "[encoded data removed]",
      "text/plain": [
       "<Figure size 640x480 with 1 Axes>"
      ]
     },
     "metadata": {},
     "output_type": "display_data"
    }
   ],
   "source": [
    "plt.hist(df_sem_outliers['LAT'], bins = 'auto', color='blue', alpha=0.7, edgecolor='black')"
   ]
  },
  {
   "cell_type": "code",
   "execution_count": 30,
   "metadata": {},
   "outputs": [
    {
     "data": {
      "image/png": "[encoded data removed]",
      "text/plain": [
       "<Figure size 1000x600 with 1 Axes>"
      ]
     },
     "metadata": {},
     "output_type": "display_data"
    }
   ],
   "source": [
    "plt.figure(figsize=(10, 6))\n",
    "plt.scatter(df_sem_outliers['LAT'], df_sem_outliers['LON'], color='blue', alpha=0.5) \n",
    "plt.title('Gráfico de Dispersão de Latitude e Longitude') \n",
    "plt.xlabel('Longitude') \n",
    "plt.ylabel('Latitude')\n",
    "plt.grid(True)\n",
    "plt.show()"
   ]
  }
 ],
 "metadata": {
  "kernelspec": {
   "display_name": "py-env",
   "language": "python",
   "name": "python3"
  },
  "language_info": {
   "codemirror_mode": {
    "name": "ipython",
    "version": 3
   },
   "file_extension": ".py",
   "mimetype": "text/x-python",
   "name": "python",
   "nbconvert_exporter": "python",
   "pygments_lexer": "ipython3",
   "version": "3.12.2"
  }
 },
 "nbformat": 4,
 "nbformat_minor": 2
}
