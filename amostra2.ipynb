{
 "cells": [
  {
   "cell_type": "code",
   "execution_count": 175,
   "metadata": {},
   "outputs": [],
   "source": [
    "import numpy as np\n",
    "import pandas as pd\n",
    "import matplotlib.pyplot as plt\n",
    "\n",
    "from tqdm import tqdm\n",
    "from geopy.geocoders import Nominatim\n",
    "from geopy.exc import GeocoderUnavailable"
   ]
  },
  {
   "cell_type": "markdown",
   "metadata": {},
   "source": [
    "# carregando o df \n"
   ]
  },
  {
   "cell_type": "code",
   "execution_count": 108,
   "metadata": {},
   "outputs": [
    {
     "name": "stderr",
     "output_type": "stream",
     "text": [
      "<>:1: SyntaxWarning: invalid escape sequence '\\p'\n",
      "<>:1: SyntaxWarning: invalid escape sequence '\\p'\n",
      "C:\\Users\\USUARIO\\AppData\\Local\\Temp\\ipykernel_17976\\3161529576.py:1: SyntaxWarning: invalid escape sequence '\\p'\n",
      "  df = pd.read_csv('D:\\pasta_sem_titulo\\df_filtrado_atvivas\\df_filtrado.csv', sep = ';')\n"
     ]
    }
   ],
   "source": [
    "df = pd.read_csv('D:\\pasta_sem_titulo\\df_filtrado_atvivas\\df_filtrado.csv', sep = ';')"
   ]
  },
  {
   "cell_type": "markdown",
   "metadata": {},
   "source": [
    "## Tirar as duplicadas baseadas no cnpj "
   ]
  },
  {
   "cell_type": "code",
   "execution_count": 109,
   "metadata": {},
   "outputs": [],
   "source": [
    "df_sem_duplicatas = df.drop_duplicates(subset=['CNPJ BÁSICO'])"
   ]
  },
  {
   "cell_type": "code",
   "execution_count": 110,
   "metadata": {},
   "outputs": [
    {
     "data": {
      "text/plain": [
       "CNPJ BÁSICO\n",
       "72074933    1\n",
       "3840974     1\n",
       "2150858     1\n",
       "1272240     1\n",
       "5500399     1\n",
       "           ..\n",
       "4732675     1\n",
       "1342862     1\n",
       "61053070    1\n",
       "7824973     1\n",
       "53884195    1\n",
       "Name: count, Length: 84031, dtype: int64"
      ]
     },
     "execution_count": 110,
     "metadata": {},
     "output_type": "execute_result"
    }
   ],
   "source": [
    "df_sem_duplicatas['CNPJ BÁSICO'].value_counts()"
   ]
  },
  {
   "cell_type": "code",
   "execution_count": 111,
   "metadata": {},
   "outputs": [
    {
     "data": {
      "text/plain": [
       "Index(['Unnamed: 0', 'CNPJ BÁSICO', 'RAZAO_SOCIAL/NOME_EMPRESARIAL',\n",
       "       'NATUREZA_JURIDICA', 'QUALIFICAÇAO_DO_RESPONSAVEL',\n",
       "       'CAPITAL_SOCIAL_DA_EMPRESA', 'PORTE_DA_EMPRESA',\n",
       "       'IDENTIFICADOR MATRIZ/FILIAL', 'NOME FANTASIA', 'SITUAÇÃO CADASTRAL',\n",
       "       'DATA SITUAÇÃO CADASTRAL', 'DATA DE INÍCIO ATIVIDADE',\n",
       "       'CNAE FISCAL PRINCIPAL', 'CNAE FISCAL SECUNDÁRIA', 'TIPO DE LOGRADOURO',\n",
       "       'LOGRADOURO', 'NÚMERO', 'COMPLEMENTO', 'BAIRRO', 'CEP', 'UF',\n",
       "       'MUNICÍPIO'],\n",
       "      dtype='object')"
      ]
     },
     "execution_count": 111,
     "metadata": {},
     "output_type": "execute_result"
    }
   ],
   "source": [
    "df_sem_duplicatas.columns"
   ]
  },
  {
   "cell_type": "code",
   "execution_count": 112,
   "metadata": {},
   "outputs": [],
   "source": [
    "df_sem_duplicatas_nomes_fantasia = df_sem_duplicatas.dropna(subset=['NOME FANTASIA'])"
   ]
  },
  {
   "cell_type": "code",
   "execution_count": 113,
   "metadata": {},
   "outputs": [
    {
     "data": {
      "text/plain": [
       "NOME FANTASIA\n",
       "False    27861\n",
       "Name: count, dtype: int64"
      ]
     },
     "execution_count": 113,
     "metadata": {},
     "output_type": "execute_result"
    }
   ],
   "source": [
    "df_sem_duplicatas_nomes_fantasia['NOME FANTASIA'].isna().value_counts()"
   ]
  },
  {
   "cell_type": "code",
   "execution_count": 114,
   "metadata": {},
   "outputs": [],
   "source": [
    "df_cnai_nomes = df_sem_duplicatas_nomes_fantasia[['CNAE FISCAL PRINCIPAL', 'NOME FANTASIA', 'CNPJ BÁSICO']]"
   ]
  },
  {
   "cell_type": "markdown",
   "metadata": {},
   "source": [
    "## A porcentagem acumulada[nome fantasia] <= 0.6"
   ]
  },
  {
   "cell_type": "code",
   "execution_count": 115,
   "metadata": {},
   "outputs": [],
   "source": [
    "lista_canais2 = list(df_cnai_nomes['CNAE FISCAL PRINCIPAL'].value_counts().to_dict().keys())\n",
    "lista_quantidades_cnpj2 = list(df_cnai_nomes['CNAE FISCAL PRINCIPAL'].value_counts().to_dict().values())\n",
    "lista_quantidade_cnpj_porcentagens2 = list(df_cnai_nomes['CNAE FISCAL PRINCIPAL'].value_counts(normalize=True).to_dict().values())"
   ]
  },
  {
   "cell_type": "code",
   "execution_count": 116,
   "metadata": {},
   "outputs": [],
   "source": [
    "df_cnpj_por_cnais_ruas = pd.DataFrame({'Cnais':lista_canais2, 'Quantidades_Nomes_fantasia':lista_quantidades_cnpj2, 'Porcentagens_nomes_fantasia':lista_quantidade_cnpj_porcentagens2})"
   ]
  },
  {
   "cell_type": "code",
   "execution_count": 117,
   "metadata": {},
   "outputs": [],
   "source": [
    "df_cnpj_por_cnais_ruas['porcentagens_acumuladas'] = df_cnpj_por_cnais_ruas['Porcentagens_nomes_fantasia'].cumsum()"
   ]
  },
  {
   "cell_type": "code",
   "execution_count": 118,
   "metadata": {},
   "outputs": [
    {
     "data": {
      "text/html": [
       "<div>\n",
       "<style scoped>\n",
       "    .dataframe tbody tr th:only-of-type {\n",
       "        vertical-align: middle;\n",
       "    }\n",
       "\n",
       "    .dataframe tbody tr th {\n",
       "        vertical-align: top;\n",
       "    }\n",
       "\n",
       "    .dataframe thead th {\n",
       "        text-align: right;\n",
       "    }\n",
       "</style>\n",
       "<table border=\"1\" class=\"dataframe\">\n",
       "  <thead>\n",
       "    <tr style=\"text-align: right;\">\n",
       "      <th></th>\n",
       "      <th>Cnais</th>\n",
       "      <th>Quantidades_Nomes_fantasia</th>\n",
       "      <th>Porcentagens_nomes_fantasia</th>\n",
       "      <th>porcentagens_acumuladas</th>\n",
       "    </tr>\n",
       "  </thead>\n",
       "  <tbody>\n",
       "    <tr>\n",
       "      <th>0</th>\n",
       "      <td>8211300</td>\n",
       "      <td>978</td>\n",
       "      <td>0.035103</td>\n",
       "      <td>0.035103</td>\n",
       "    </tr>\n",
       "    <tr>\n",
       "      <th>1</th>\n",
       "      <td>4781400</td>\n",
       "      <td>893</td>\n",
       "      <td>0.032052</td>\n",
       "      <td>0.067155</td>\n",
       "    </tr>\n",
       "    <tr>\n",
       "      <th>2</th>\n",
       "      <td>5611201</td>\n",
       "      <td>779</td>\n",
       "      <td>0.027960</td>\n",
       "      <td>0.095115</td>\n",
       "    </tr>\n",
       "    <tr>\n",
       "      <th>3</th>\n",
       "      <td>4120400</td>\n",
       "      <td>678</td>\n",
       "      <td>0.024335</td>\n",
       "      <td>0.119450</td>\n",
       "    </tr>\n",
       "    <tr>\n",
       "      <th>4</th>\n",
       "      <td>4712100</td>\n",
       "      <td>597</td>\n",
       "      <td>0.021428</td>\n",
       "      <td>0.140878</td>\n",
       "    </tr>\n",
       "    <tr>\n",
       "      <th>...</th>\n",
       "      <td>...</td>\n",
       "      <td>...</td>\n",
       "      <td>...</td>\n",
       "      <td>...</td>\n",
       "    </tr>\n",
       "    <tr>\n",
       "      <th>838</th>\n",
       "      <td>4632002</td>\n",
       "      <td>1</td>\n",
       "      <td>0.000036</td>\n",
       "      <td>0.999856</td>\n",
       "    </tr>\n",
       "    <tr>\n",
       "      <th>839</th>\n",
       "      <td>1610204</td>\n",
       "      <td>1</td>\n",
       "      <td>0.000036</td>\n",
       "      <td>0.999892</td>\n",
       "    </tr>\n",
       "    <tr>\n",
       "      <th>840</th>\n",
       "      <td>725100</td>\n",
       "      <td>1</td>\n",
       "      <td>0.000036</td>\n",
       "      <td>0.999928</td>\n",
       "    </tr>\n",
       "    <tr>\n",
       "      <th>841</th>\n",
       "      <td>3091101</td>\n",
       "      <td>1</td>\n",
       "      <td>0.000036</td>\n",
       "      <td>0.999964</td>\n",
       "    </tr>\n",
       "    <tr>\n",
       "      <th>842</th>\n",
       "      <td>8299705</td>\n",
       "      <td>1</td>\n",
       "      <td>0.000036</td>\n",
       "      <td>1.000000</td>\n",
       "    </tr>\n",
       "  </tbody>\n",
       "</table>\n",
       "<p>843 rows × 4 columns</p>\n",
       "</div>"
      ],
      "text/plain": [
       "       Cnais  Quantidades_Nomes_fantasia  Porcentagens_nomes_fantasia  \\\n",
       "0    8211300                         978                     0.035103   \n",
       "1    4781400                         893                     0.032052   \n",
       "2    5611201                         779                     0.027960   \n",
       "3    4120400                         678                     0.024335   \n",
       "4    4712100                         597                     0.021428   \n",
       "..       ...                         ...                          ...   \n",
       "838  4632002                           1                     0.000036   \n",
       "839  1610204                           1                     0.000036   \n",
       "840   725100                           1                     0.000036   \n",
       "841  3091101                           1                     0.000036   \n",
       "842  8299705                           1                     0.000036   \n",
       "\n",
       "     porcentagens_acumuladas  \n",
       "0                   0.035103  \n",
       "1                   0.067155  \n",
       "2                   0.095115  \n",
       "3                   0.119450  \n",
       "4                   0.140878  \n",
       "..                       ...  \n",
       "838                 0.999856  \n",
       "839                 0.999892  \n",
       "840                 0.999928  \n",
       "841                 0.999964  \n",
       "842                 1.000000  \n",
       "\n",
       "[843 rows x 4 columns]"
      ]
     },
     "execution_count": 118,
     "metadata": {},
     "output_type": "execute_result"
    }
   ],
   "source": [
    "df_cnpj_por_cnais_ruas"
   ]
  },
  {
   "cell_type": "code",
   "execution_count": 119,
   "metadata": {},
   "outputs": [],
   "source": [
    "df_filtrado_06 = df_cnpj_por_cnais_ruas[df_cnpj_por_cnais_ruas['porcentagens_acumuladas']<=0.6]"
   ]
  },
  {
   "cell_type": "code",
   "execution_count": 120,
   "metadata": {},
   "outputs": [
    {
     "data": {
      "text/html": [
       "<div>\n",
       "<style scoped>\n",
       "    .dataframe tbody tr th:only-of-type {\n",
       "        vertical-align: middle;\n",
       "    }\n",
       "\n",
       "    .dataframe tbody tr th {\n",
       "        vertical-align: top;\n",
       "    }\n",
       "\n",
       "    .dataframe thead th {\n",
       "        text-align: right;\n",
       "    }\n",
       "</style>\n",
       "<table border=\"1\" class=\"dataframe\">\n",
       "  <thead>\n",
       "    <tr style=\"text-align: right;\">\n",
       "      <th></th>\n",
       "      <th>Cnais</th>\n",
       "      <th>Quantidades_Nomes_fantasia</th>\n",
       "      <th>Porcentagens_nomes_fantasia</th>\n",
       "      <th>porcentagens_acumuladas</th>\n",
       "    </tr>\n",
       "  </thead>\n",
       "  <tbody>\n",
       "    <tr>\n",
       "      <th>0</th>\n",
       "      <td>8211300</td>\n",
       "      <td>978</td>\n",
       "      <td>0.035103</td>\n",
       "      <td>0.035103</td>\n",
       "    </tr>\n",
       "    <tr>\n",
       "      <th>1</th>\n",
       "      <td>4781400</td>\n",
       "      <td>893</td>\n",
       "      <td>0.032052</td>\n",
       "      <td>0.067155</td>\n",
       "    </tr>\n",
       "    <tr>\n",
       "      <th>2</th>\n",
       "      <td>5611201</td>\n",
       "      <td>779</td>\n",
       "      <td>0.027960</td>\n",
       "      <td>0.095115</td>\n",
       "    </tr>\n",
       "    <tr>\n",
       "      <th>3</th>\n",
       "      <td>4120400</td>\n",
       "      <td>678</td>\n",
       "      <td>0.024335</td>\n",
       "      <td>0.119450</td>\n",
       "    </tr>\n",
       "    <tr>\n",
       "      <th>4</th>\n",
       "      <td>4712100</td>\n",
       "      <td>597</td>\n",
       "      <td>0.021428</td>\n",
       "      <td>0.140878</td>\n",
       "    </tr>\n",
       "    <tr>\n",
       "      <th>...</th>\n",
       "      <td>...</td>\n",
       "      <td>...</td>\n",
       "      <td>...</td>\n",
       "      <td>...</td>\n",
       "    </tr>\n",
       "    <tr>\n",
       "      <th>59</th>\n",
       "      <td>4755502</td>\n",
       "      <td>118</td>\n",
       "      <td>0.004235</td>\n",
       "      <td>0.582965</td>\n",
       "    </tr>\n",
       "    <tr>\n",
       "      <th>60</th>\n",
       "      <td>9511800</td>\n",
       "      <td>115</td>\n",
       "      <td>0.004128</td>\n",
       "      <td>0.587093</td>\n",
       "    </tr>\n",
       "    <tr>\n",
       "      <th>61</th>\n",
       "      <td>8650004</td>\n",
       "      <td>114</td>\n",
       "      <td>0.004092</td>\n",
       "      <td>0.591185</td>\n",
       "    </tr>\n",
       "    <tr>\n",
       "      <th>62</th>\n",
       "      <td>4541206</td>\n",
       "      <td>108</td>\n",
       "      <td>0.003876</td>\n",
       "      <td>0.595061</td>\n",
       "    </tr>\n",
       "    <tr>\n",
       "      <th>63</th>\n",
       "      <td>8513900</td>\n",
       "      <td>108</td>\n",
       "      <td>0.003876</td>\n",
       "      <td>0.598938</td>\n",
       "    </tr>\n",
       "  </tbody>\n",
       "</table>\n",
       "<p>64 rows × 4 columns</p>\n",
       "</div>"
      ],
      "text/plain": [
       "      Cnais  Quantidades_Nomes_fantasia  Porcentagens_nomes_fantasia  \\\n",
       "0   8211300                         978                     0.035103   \n",
       "1   4781400                         893                     0.032052   \n",
       "2   5611201                         779                     0.027960   \n",
       "3   4120400                         678                     0.024335   \n",
       "4   4712100                         597                     0.021428   \n",
       "..      ...                         ...                          ...   \n",
       "59  4755502                         118                     0.004235   \n",
       "60  9511800                         115                     0.004128   \n",
       "61  8650004                         114                     0.004092   \n",
       "62  4541206                         108                     0.003876   \n",
       "63  8513900                         108                     0.003876   \n",
       "\n",
       "    porcentagens_acumuladas  \n",
       "0                  0.035103  \n",
       "1                  0.067155  \n",
       "2                  0.095115  \n",
       "3                  0.119450  \n",
       "4                  0.140878  \n",
       "..                      ...  \n",
       "59                 0.582965  \n",
       "60                 0.587093  \n",
       "61                 0.591185  \n",
       "62                 0.595061  \n",
       "63                 0.598938  \n",
       "\n",
       "[64 rows x 4 columns]"
      ]
     },
     "execution_count": 120,
     "metadata": {},
     "output_type": "execute_result"
    }
   ],
   "source": [
    "df_filtrado_06"
   ]
  },
  {
   "cell_type": "code",
   "execution_count": 121,
   "metadata": {},
   "outputs": [],
   "source": [
    "df_mesclado = pd.merge(df_filtrado_06, df_sem_duplicatas_nomes_fantasia, how = 'inner', left_on = 'Cnais', right_on='CNAE FISCAL PRINCIPAL')"
   ]
  },
  {
   "cell_type": "code",
   "execution_count": 122,
   "metadata": {},
   "outputs": [
    {
     "data": {
      "text/html": [
       "<div>\n",
       "<style scoped>\n",
       "    .dataframe tbody tr th:only-of-type {\n",
       "        vertical-align: middle;\n",
       "    }\n",
       "\n",
       "    .dataframe tbody tr th {\n",
       "        vertical-align: top;\n",
       "    }\n",
       "\n",
       "    .dataframe thead th {\n",
       "        text-align: right;\n",
       "    }\n",
       "</style>\n",
       "<table border=\"1\" class=\"dataframe\">\n",
       "  <thead>\n",
       "    <tr style=\"text-align: right;\">\n",
       "      <th></th>\n",
       "      <th>Cnais</th>\n",
       "      <th>Quantidades_Nomes_fantasia</th>\n",
       "      <th>Porcentagens_nomes_fantasia</th>\n",
       "      <th>porcentagens_acumuladas</th>\n",
       "      <th>Unnamed: 0</th>\n",
       "      <th>CNPJ BÁSICO</th>\n",
       "      <th>RAZAO_SOCIAL/NOME_EMPRESARIAL</th>\n",
       "      <th>NATUREZA_JURIDICA</th>\n",
       "      <th>QUALIFICAÇAO_DO_RESPONSAVEL</th>\n",
       "      <th>CAPITAL_SOCIAL_DA_EMPRESA</th>\n",
       "      <th>...</th>\n",
       "      <th>CNAE FISCAL PRINCIPAL</th>\n",
       "      <th>CNAE FISCAL SECUNDÁRIA</th>\n",
       "      <th>TIPO DE LOGRADOURO</th>\n",
       "      <th>LOGRADOURO</th>\n",
       "      <th>NÚMERO</th>\n",
       "      <th>COMPLEMENTO</th>\n",
       "      <th>BAIRRO</th>\n",
       "      <th>CEP</th>\n",
       "      <th>UF</th>\n",
       "      <th>MUNICÍPIO</th>\n",
       "    </tr>\n",
       "  </thead>\n",
       "  <tbody>\n",
       "    <tr>\n",
       "      <th>0</th>\n",
       "      <td>8211300</td>\n",
       "      <td>978</td>\n",
       "      <td>0.035103</td>\n",
       "      <td>0.035103</td>\n",
       "      <td>204</td>\n",
       "      <td>72473770</td>\n",
       "      <td>NaN</td>\n",
       "      <td>NaN</td>\n",
       "      <td>NaN</td>\n",
       "      <td>NaN</td>\n",
       "      <td>...</td>\n",
       "      <td>8211300</td>\n",
       "      <td>NaN</td>\n",
       "      <td>RUA</td>\n",
       "      <td>GUILHERME ROCHA</td>\n",
       "      <td>218</td>\n",
       "      <td>SALA 804</td>\n",
       "      <td>CENTRO</td>\n",
       "      <td>60030140</td>\n",
       "      <td>CE</td>\n",
       "      <td>1389</td>\n",
       "    </tr>\n",
       "    <tr>\n",
       "      <th>1</th>\n",
       "      <td>8211300</td>\n",
       "      <td>978</td>\n",
       "      <td>0.035103</td>\n",
       "      <td>0.035103</td>\n",
       "      <td>728</td>\n",
       "      <td>7491318</td>\n",
       "      <td>NaN</td>\n",
       "      <td>NaN</td>\n",
       "      <td>NaN</td>\n",
       "      <td>NaN</td>\n",
       "      <td>...</td>\n",
       "      <td>8211300</td>\n",
       "      <td>NaN</td>\n",
       "      <td>AVENIDA</td>\n",
       "      <td>JORNALISTA THOMAZ COELHO</td>\n",
       "      <td>1678</td>\n",
       "      <td>NaN</td>\n",
       "      <td>MESSEJANA</td>\n",
       "      <td>60864810</td>\n",
       "      <td>CE</td>\n",
       "      <td>1389</td>\n",
       "    </tr>\n",
       "    <tr>\n",
       "      <th>2</th>\n",
       "      <td>8211300</td>\n",
       "      <td>978</td>\n",
       "      <td>0.035103</td>\n",
       "      <td>0.035103</td>\n",
       "      <td>1195</td>\n",
       "      <td>7993106</td>\n",
       "      <td>NaN</td>\n",
       "      <td>NaN</td>\n",
       "      <td>NaN</td>\n",
       "      <td>NaN</td>\n",
       "      <td>...</td>\n",
       "      <td>8211300</td>\n",
       "      <td>6822600,8111700,8121400</td>\n",
       "      <td>RUA</td>\n",
       "      <td>TARCISIO BONFIM</td>\n",
       "      <td>219</td>\n",
       "      <td>NaN</td>\n",
       "      <td>PAPICU</td>\n",
       "      <td>60175335</td>\n",
       "      <td>CE</td>\n",
       "      <td>1389</td>\n",
       "    </tr>\n",
       "    <tr>\n",
       "      <th>3</th>\n",
       "      <td>8211300</td>\n",
       "      <td>978</td>\n",
       "      <td>0.035103</td>\n",
       "      <td>0.035103</td>\n",
       "      <td>2040</td>\n",
       "      <td>35225184</td>\n",
       "      <td>NaN</td>\n",
       "      <td>NaN</td>\n",
       "      <td>NaN</td>\n",
       "      <td>NaN</td>\n",
       "      <td>...</td>\n",
       "      <td>8211300</td>\n",
       "      <td>NaN</td>\n",
       "      <td>RUA</td>\n",
       "      <td>FRANCISCO GLICERIO</td>\n",
       "      <td>290</td>\n",
       "      <td>MT5LJ18</td>\n",
       "      <td>MARAPONGA</td>\n",
       "      <td>60711055</td>\n",
       "      <td>CE</td>\n",
       "      <td>1389</td>\n",
       "    </tr>\n",
       "    <tr>\n",
       "      <th>4</th>\n",
       "      <td>8211300</td>\n",
       "      <td>978</td>\n",
       "      <td>0.035103</td>\n",
       "      <td>0.035103</td>\n",
       "      <td>2220</td>\n",
       "      <td>3672939</td>\n",
       "      <td>NaN</td>\n",
       "      <td>NaN</td>\n",
       "      <td>NaN</td>\n",
       "      <td>NaN</td>\n",
       "      <td>...</td>\n",
       "      <td>8211300</td>\n",
       "      <td>NaN</td>\n",
       "      <td>RUA</td>\n",
       "      <td>CONSELHEIRO ESTELITA</td>\n",
       "      <td>130</td>\n",
       "      <td>APT   6B</td>\n",
       "      <td>CENTRO</td>\n",
       "      <td>60010260</td>\n",
       "      <td>CE</td>\n",
       "      <td>1389</td>\n",
       "    </tr>\n",
       "    <tr>\n",
       "      <th>...</th>\n",
       "      <td>...</td>\n",
       "      <td>...</td>\n",
       "      <td>...</td>\n",
       "      <td>...</td>\n",
       "      <td>...</td>\n",
       "      <td>...</td>\n",
       "      <td>...</td>\n",
       "      <td>...</td>\n",
       "      <td>...</td>\n",
       "      <td>...</td>\n",
       "      <td>...</td>\n",
       "      <td>...</td>\n",
       "      <td>...</td>\n",
       "      <td>...</td>\n",
       "      <td>...</td>\n",
       "      <td>...</td>\n",
       "      <td>...</td>\n",
       "      <td>...</td>\n",
       "      <td>...</td>\n",
       "      <td>...</td>\n",
       "      <td>...</td>\n",
       "    </tr>\n",
       "    <tr>\n",
       "      <th>16682</th>\n",
       "      <td>8513900</td>\n",
       "      <td>108</td>\n",
       "      <td>0.003876</td>\n",
       "      <td>0.598938</td>\n",
       "      <td>201745</td>\n",
       "      <td>34701800</td>\n",
       "      <td>NaN</td>\n",
       "      <td>NaN</td>\n",
       "      <td>NaN</td>\n",
       "      <td>NaN</td>\n",
       "      <td>...</td>\n",
       "      <td>8513900</td>\n",
       "      <td>8511200,8512100</td>\n",
       "      <td>RUA</td>\n",
       "      <td>ANA BRITO</td>\n",
       "      <td>913</td>\n",
       "      <td>NaN</td>\n",
       "      <td>MONDUBIM</td>\n",
       "      <td>60765025</td>\n",
       "      <td>CE</td>\n",
       "      <td>1389</td>\n",
       "    </tr>\n",
       "    <tr>\n",
       "      <th>16683</th>\n",
       "      <td>8513900</td>\n",
       "      <td>108</td>\n",
       "      <td>0.003876</td>\n",
       "      <td>0.598938</td>\n",
       "      <td>203796</td>\n",
       "      <td>36519786</td>\n",
       "      <td>NaN</td>\n",
       "      <td>NaN</td>\n",
       "      <td>NaN</td>\n",
       "      <td>NaN</td>\n",
       "      <td>...</td>\n",
       "      <td>8513900</td>\n",
       "      <td>8520100</td>\n",
       "      <td>AVENIDA</td>\n",
       "      <td>BEZERRA DE MENEZES</td>\n",
       "      <td>620</td>\n",
       "      <td>A</td>\n",
       "      <td>SAO GERARDO</td>\n",
       "      <td>60325001</td>\n",
       "      <td>CE</td>\n",
       "      <td>1389</td>\n",
       "    </tr>\n",
       "    <tr>\n",
       "      <th>16684</th>\n",
       "      <td>8513900</td>\n",
       "      <td>108</td>\n",
       "      <td>0.003876</td>\n",
       "      <td>0.598938</td>\n",
       "      <td>217889</td>\n",
       "      <td>34561913</td>\n",
       "      <td>NaN</td>\n",
       "      <td>NaN</td>\n",
       "      <td>NaN</td>\n",
       "      <td>NaN</td>\n",
       "      <td>...</td>\n",
       "      <td>8513900</td>\n",
       "      <td>8520100</td>\n",
       "      <td>RUA</td>\n",
       "      <td>CONEGO DE CASTRO</td>\n",
       "      <td>1820</td>\n",
       "      <td>NaN</td>\n",
       "      <td>VILA PERY</td>\n",
       "      <td>60730062</td>\n",
       "      <td>CE</td>\n",
       "      <td>1389</td>\n",
       "    </tr>\n",
       "    <tr>\n",
       "      <th>16685</th>\n",
       "      <td>8513900</td>\n",
       "      <td>108</td>\n",
       "      <td>0.003876</td>\n",
       "      <td>0.598938</td>\n",
       "      <td>219257</td>\n",
       "      <td>44580130</td>\n",
       "      <td>NaN</td>\n",
       "      <td>NaN</td>\n",
       "      <td>NaN</td>\n",
       "      <td>NaN</td>\n",
       "      <td>...</td>\n",
       "      <td>8513900</td>\n",
       "      <td>4761001,4781400,8511200,8520100</td>\n",
       "      <td>RUA</td>\n",
       "      <td>COSTA SOUSA</td>\n",
       "      <td>217</td>\n",
       "      <td>NaN</td>\n",
       "      <td>BENFICA</td>\n",
       "      <td>60020300</td>\n",
       "      <td>CE</td>\n",
       "      <td>1389</td>\n",
       "    </tr>\n",
       "    <tr>\n",
       "      <th>16686</th>\n",
       "      <td>8513900</td>\n",
       "      <td>108</td>\n",
       "      <td>0.003876</td>\n",
       "      <td>0.598938</td>\n",
       "      <td>222407</td>\n",
       "      <td>47108730</td>\n",
       "      <td>NaN</td>\n",
       "      <td>NaN</td>\n",
       "      <td>NaN</td>\n",
       "      <td>NaN</td>\n",
       "      <td>...</td>\n",
       "      <td>8513900</td>\n",
       "      <td>8512100,8541400,8599605</td>\n",
       "      <td>RUA</td>\n",
       "      <td>GENERAL ROMMEL</td>\n",
       "      <td>530</td>\n",
       "      <td>NaN</td>\n",
       "      <td>BOA VISTA / CASTELAO</td>\n",
       "      <td>60861160</td>\n",
       "      <td>CE</td>\n",
       "      <td>1389</td>\n",
       "    </tr>\n",
       "  </tbody>\n",
       "</table>\n",
       "<p>16687 rows × 26 columns</p>\n",
       "</div>"
      ],
      "text/plain": [
       "         Cnais  Quantidades_Nomes_fantasia  Porcentagens_nomes_fantasia  \\\n",
       "0      8211300                         978                     0.035103   \n",
       "1      8211300                         978                     0.035103   \n",
       "2      8211300                         978                     0.035103   \n",
       "3      8211300                         978                     0.035103   \n",
       "4      8211300                         978                     0.035103   \n",
       "...        ...                         ...                          ...   \n",
       "16682  8513900                         108                     0.003876   \n",
       "16683  8513900                         108                     0.003876   \n",
       "16684  8513900                         108                     0.003876   \n",
       "16685  8513900                         108                     0.003876   \n",
       "16686  8513900                         108                     0.003876   \n",
       "\n",
       "       porcentagens_acumuladas  Unnamed: 0  CNPJ BÁSICO  \\\n",
       "0                     0.035103         204     72473770   \n",
       "1                     0.035103         728      7491318   \n",
       "2                     0.035103        1195      7993106   \n",
       "3                     0.035103        2040     35225184   \n",
       "4                     0.035103        2220      3672939   \n",
       "...                        ...         ...          ...   \n",
       "16682                 0.598938      201745     34701800   \n",
       "16683                 0.598938      203796     36519786   \n",
       "16684                 0.598938      217889     34561913   \n",
       "16685                 0.598938      219257     44580130   \n",
       "16686                 0.598938      222407     47108730   \n",
       "\n",
       "      RAZAO_SOCIAL/NOME_EMPRESARIAL  NATUREZA_JURIDICA  \\\n",
       "0                               NaN                NaN   \n",
       "1                               NaN                NaN   \n",
       "2                               NaN                NaN   \n",
       "3                               NaN                NaN   \n",
       "4                               NaN                NaN   \n",
       "...                             ...                ...   \n",
       "16682                           NaN                NaN   \n",
       "16683                           NaN                NaN   \n",
       "16684                           NaN                NaN   \n",
       "16685                           NaN                NaN   \n",
       "16686                           NaN                NaN   \n",
       "\n",
       "       QUALIFICAÇAO_DO_RESPONSAVEL CAPITAL_SOCIAL_DA_EMPRESA  ...  \\\n",
       "0                              NaN                       NaN  ...   \n",
       "1                              NaN                       NaN  ...   \n",
       "2                              NaN                       NaN  ...   \n",
       "3                              NaN                       NaN  ...   \n",
       "4                              NaN                       NaN  ...   \n",
       "...                            ...                       ...  ...   \n",
       "16682                          NaN                       NaN  ...   \n",
       "16683                          NaN                       NaN  ...   \n",
       "16684                          NaN                       NaN  ...   \n",
       "16685                          NaN                       NaN  ...   \n",
       "16686                          NaN                       NaN  ...   \n",
       "\n",
       "       CNAE FISCAL PRINCIPAL           CNAE FISCAL SECUNDÁRIA  \\\n",
       "0                    8211300                              NaN   \n",
       "1                    8211300                              NaN   \n",
       "2                    8211300          6822600,8111700,8121400   \n",
       "3                    8211300                              NaN   \n",
       "4                    8211300                              NaN   \n",
       "...                      ...                              ...   \n",
       "16682                8513900                  8511200,8512100   \n",
       "16683                8513900                          8520100   \n",
       "16684                8513900                          8520100   \n",
       "16685                8513900  4761001,4781400,8511200,8520100   \n",
       "16686                8513900          8512100,8541400,8599605   \n",
       "\n",
       "      TIPO DE LOGRADOURO                LOGRADOURO  NÚMERO     COMPLEMENTO  \\\n",
       "0                    RUA           GUILHERME ROCHA     218        SALA 804   \n",
       "1                AVENIDA  JORNALISTA THOMAZ COELHO    1678             NaN   \n",
       "2                    RUA           TARCISIO BONFIM     219             NaN   \n",
       "3                    RUA        FRANCISCO GLICERIO     290         MT5LJ18   \n",
       "4                    RUA      CONSELHEIRO ESTELITA     130        APT   6B   \n",
       "...                  ...                       ...     ...             ...   \n",
       "16682                RUA                 ANA BRITO     913             NaN   \n",
       "16683            AVENIDA        BEZERRA DE MENEZES     620               A   \n",
       "16684                RUA          CONEGO DE CASTRO    1820             NaN   \n",
       "16685                RUA               COSTA SOUSA     217             NaN   \n",
       "16686                RUA            GENERAL ROMMEL     530             NaN   \n",
       "\n",
       "                     BAIRRO       CEP  UF MUNICÍPIO  \n",
       "0                    CENTRO  60030140  CE      1389  \n",
       "1                 MESSEJANA  60864810  CE      1389  \n",
       "2                    PAPICU  60175335  CE      1389  \n",
       "3                 MARAPONGA  60711055  CE      1389  \n",
       "4                    CENTRO  60010260  CE      1389  \n",
       "...                     ...       ...  ..       ...  \n",
       "16682              MONDUBIM  60765025  CE      1389  \n",
       "16683           SAO GERARDO  60325001  CE      1389  \n",
       "16684             VILA PERY  60730062  CE      1389  \n",
       "16685               BENFICA  60020300  CE      1389  \n",
       "16686  BOA VISTA / CASTELAO  60861160  CE      1389  \n",
       "\n",
       "[16687 rows x 26 columns]"
      ]
     },
     "execution_count": 122,
     "metadata": {},
     "output_type": "execute_result"
    }
   ],
   "source": [
    "df_mesclado"
   ]
  },
  {
   "cell_type": "markdown",
   "metadata": {},
   "source": [
    "## df[cnpj,nome fantasia, cnai, endereco, lat, lon]"
   ]
  },
  {
   "cell_type": "code",
   "execution_count": 123,
   "metadata": {},
   "outputs": [],
   "source": [
    "df_final = pd.DataFrame()"
   ]
  },
  {
   "cell_type": "code",
   "execution_count": 124,
   "metadata": {},
   "outputs": [],
   "source": [
    "df_final = df_mesclado[['CNPJ BÁSICO', 'NOME FANTASIA', 'CNAE FISCAL PRINCIPAL']]"
   ]
  },
  {
   "cell_type": "code",
   "execution_count": 125,
   "metadata": {},
   "outputs": [
    {
     "data": {
      "text/plain": [
       "Index(['Cnais', 'Quantidades_Nomes_fantasia', 'Porcentagens_nomes_fantasia',\n",
       "       'porcentagens_acumuladas', 'Unnamed: 0', 'CNPJ BÁSICO',\n",
       "       'RAZAO_SOCIAL/NOME_EMPRESARIAL', 'NATUREZA_JURIDICA',\n",
       "       'QUALIFICAÇAO_DO_RESPONSAVEL', 'CAPITAL_SOCIAL_DA_EMPRESA',\n",
       "       'PORTE_DA_EMPRESA', 'IDENTIFICADOR MATRIZ/FILIAL', 'NOME FANTASIA',\n",
       "       'SITUAÇÃO CADASTRAL', 'DATA SITUAÇÃO CADASTRAL',\n",
       "       'DATA DE INÍCIO ATIVIDADE', 'CNAE FISCAL PRINCIPAL',\n",
       "       'CNAE FISCAL SECUNDÁRIA', 'TIPO DE LOGRADOURO', 'LOGRADOURO', 'NÚMERO',\n",
       "       'COMPLEMENTO', 'BAIRRO', 'CEP', 'UF', 'MUNICÍPIO'],\n",
       "      dtype='object')"
      ]
     },
     "execution_count": 125,
     "metadata": {},
     "output_type": "execute_result"
    }
   ],
   "source": [
    "df_mesclado.columns"
   ]
  },
  {
   "cell_type": "code",
   "execution_count": 126,
   "metadata": {},
   "outputs": [],
   "source": [
    "lista_enderecos_completos = []\n",
    "for i in range(len(df_mesclado)):\n",
    "    rua = str(df_mesclado['LOGRADOURO'][i])\n",
    "    numero = str(df_mesclado['NÚMERO'][i])\n",
    "    bairro = str(df_mesclado['BAIRRO'][i])\n",
    "    # cep = str(df_mesclado['CEP'][i])\n",
    "    uf = str(df_mesclado['UF'][i])\n",
    "    endereco_completo = str(rua+' ,'+numero+' - '+bairro+' ,'+'FORTALEZA'+' - '+uf)\n",
    "    lista_enderecos_completos.append(endereco_completo)"
   ]
  },
  {
   "cell_type": "code",
   "execution_count": 127,
   "metadata": {},
   "outputs": [
    {
     "name": "stderr",
     "output_type": "stream",
     "text": [
      "C:\\Users\\USUARIO\\AppData\\Local\\Temp\\ipykernel_17976\\392542961.py:1: SettingWithCopyWarning: \n",
      "A value is trying to be set on a copy of a slice from a DataFrame.\n",
      "Try using .loc[row_indexer,col_indexer] = value instead\n",
      "\n",
      "See the caveats in the documentation: https://pandas.pydata.org/pandas-docs/stable/user_guide/indexing.html#returning-a-view-versus-a-copy\n",
      "  df_final['EMDERECO COMPLETO'] = lista_enderecos_completos\n"
     ]
    }
   ],
   "source": [
    "df_final['EMDERECO COMPLETO'] = lista_enderecos_completos"
   ]
  },
  {
   "cell_type": "code",
   "execution_count": 128,
   "metadata": {},
   "outputs": [
    {
     "data": {
      "text/plain": [
       "'GUILHERME ROCHA ,218 - CENTRO ,FORTALEZA - CE'"
      ]
     },
     "execution_count": 128,
     "metadata": {},
     "output_type": "execute_result"
    }
   ],
   "source": [
    "df_final['EMDERECO COMPLETO'][0]"
   ]
  },
  {
   "cell_type": "code",
   "execution_count": 129,
   "metadata": {},
   "outputs": [],
   "source": [
    "lista = []\n",
    "for i  in range(len(df_final)):\n",
    "    lista.append(i)"
   ]
  },
  {
   "cell_type": "code",
   "execution_count": 130,
   "metadata": {},
   "outputs": [
    {
     "name": "stderr",
     "output_type": "stream",
     "text": [
      "C:\\Users\\USUARIO\\AppData\\Local\\Temp\\ipykernel_17976\\3896292336.py:1: SettingWithCopyWarning: \n",
      "A value is trying to be set on a copy of a slice from a DataFrame.\n",
      "Try using .loc[row_indexer,col_indexer] = value instead\n",
      "\n",
      "See the caveats in the documentation: https://pandas.pydata.org/pandas-docs/stable/user_guide/indexing.html#returning-a-view-versus-a-copy\n",
      "  df_final['ID'] = lista\n"
     ]
    }
   ],
   "source": [
    "df_final['ID'] = lista"
   ]
  },
  {
   "cell_type": "code",
   "execution_count": 131,
   "metadata": {},
   "outputs": [
    {
     "data": {
      "text/html": [
       "<div>\n",
       "<style scoped>\n",
       "    .dataframe tbody tr th:only-of-type {\n",
       "        vertical-align: middle;\n",
       "    }\n",
       "\n",
       "    .dataframe tbody tr th {\n",
       "        vertical-align: top;\n",
       "    }\n",
       "\n",
       "    .dataframe thead th {\n",
       "        text-align: right;\n",
       "    }\n",
       "</style>\n",
       "<table border=\"1\" class=\"dataframe\">\n",
       "  <thead>\n",
       "    <tr style=\"text-align: right;\">\n",
       "      <th></th>\n",
       "      <th>CNPJ BÁSICO</th>\n",
       "      <th>NOME FANTASIA</th>\n",
       "      <th>CNAE FISCAL PRINCIPAL</th>\n",
       "      <th>EMDERECO COMPLETO</th>\n",
       "      <th>ID</th>\n",
       "    </tr>\n",
       "  </thead>\n",
       "  <tbody>\n",
       "    <tr>\n",
       "      <th>0</th>\n",
       "      <td>72473770</td>\n",
       "      <td>NOVAS TENDENCIAS REPRESENTACOES COMERCIAIS</td>\n",
       "      <td>8211300</td>\n",
       "      <td>GUILHERME ROCHA ,218 - CENTRO ,FORTALEZA - CE</td>\n",
       "      <td>0</td>\n",
       "    </tr>\n",
       "    <tr>\n",
       "      <th>1</th>\n",
       "      <td>7491318</td>\n",
       "      <td>VIRTUAL CARD</td>\n",
       "      <td>8211300</td>\n",
       "      <td>JORNALISTA THOMAZ COELHO ,1678 - MESSEJANA ,FO...</td>\n",
       "      <td>1</td>\n",
       "    </tr>\n",
       "    <tr>\n",
       "      <th>2</th>\n",
       "      <td>7993106</td>\n",
       "      <td>CAPITANIA SERVICOS</td>\n",
       "      <td>8211300</td>\n",
       "      <td>TARCISIO BONFIM ,219 - PAPICU ,FORTALEZA - CE</td>\n",
       "      <td>2</td>\n",
       "    </tr>\n",
       "    <tr>\n",
       "      <th>3</th>\n",
       "      <td>35225184</td>\n",
       "      <td>CHANGERIE</td>\n",
       "      <td>8211300</td>\n",
       "      <td>FRANCISCO GLICERIO ,290 - MARAPONGA ,FORTALEZA...</td>\n",
       "      <td>3</td>\n",
       "    </tr>\n",
       "    <tr>\n",
       "      <th>4</th>\n",
       "      <td>3672939</td>\n",
       "      <td>EFICIENCE CONTABILIDADE E ASSESSORIA</td>\n",
       "      <td>8211300</td>\n",
       "      <td>CONSELHEIRO ESTELITA ,130 - CENTRO ,FORTALEZA ...</td>\n",
       "      <td>4</td>\n",
       "    </tr>\n",
       "    <tr>\n",
       "      <th>...</th>\n",
       "      <td>...</td>\n",
       "      <td>...</td>\n",
       "      <td>...</td>\n",
       "      <td>...</td>\n",
       "      <td>...</td>\n",
       "    </tr>\n",
       "    <tr>\n",
       "      <th>16682</th>\n",
       "      <td>34701800</td>\n",
       "      <td>ESCOLA VIVER VALORES - COMECO DO CAMINHO</td>\n",
       "      <td>8513900</td>\n",
       "      <td>ANA BRITO ,913 - MONDUBIM ,FORTALEZA - CE</td>\n",
       "      <td>16682</td>\n",
       "    </tr>\n",
       "    <tr>\n",
       "      <th>16683</th>\n",
       "      <td>36519786</td>\n",
       "      <td>COLEGIO 21 DE ABRIL</td>\n",
       "      <td>8513900</td>\n",
       "      <td>BEZERRA DE MENEZES ,620 - SAO GERARDO ,FORTALE...</td>\n",
       "      <td>16683</td>\n",
       "    </tr>\n",
       "    <tr>\n",
       "      <th>16684</th>\n",
       "      <td>34561913</td>\n",
       "      <td>COLEGIO GURI SENIOR</td>\n",
       "      <td>8513900</td>\n",
       "      <td>CONEGO DE CASTRO ,1820 - VILA PERY ,FORTALEZA ...</td>\n",
       "      <td>16684</td>\n",
       "    </tr>\n",
       "    <tr>\n",
       "      <th>16685</th>\n",
       "      <td>44580130</td>\n",
       "      <td>UNIC</td>\n",
       "      <td>8513900</td>\n",
       "      <td>COSTA SOUSA ,217 - BENFICA ,FORTALEZA - CE</td>\n",
       "      <td>16685</td>\n",
       "    </tr>\n",
       "    <tr>\n",
       "      <th>16686</th>\n",
       "      <td>47108730</td>\n",
       "      <td>COLEGIO JOSE NUNES DE MORAIS</td>\n",
       "      <td>8513900</td>\n",
       "      <td>GENERAL ROMMEL ,530 - BOA VISTA / CASTELAO ,FO...</td>\n",
       "      <td>16686</td>\n",
       "    </tr>\n",
       "  </tbody>\n",
       "</table>\n",
       "<p>16687 rows × 5 columns</p>\n",
       "</div>"
      ],
      "text/plain": [
       "       CNPJ BÁSICO                               NOME FANTASIA  \\\n",
       "0         72473770  NOVAS TENDENCIAS REPRESENTACOES COMERCIAIS   \n",
       "1          7491318                                VIRTUAL CARD   \n",
       "2          7993106                          CAPITANIA SERVICOS   \n",
       "3         35225184                                   CHANGERIE   \n",
       "4          3672939        EFICIENCE CONTABILIDADE E ASSESSORIA   \n",
       "...            ...                                         ...   \n",
       "16682     34701800    ESCOLA VIVER VALORES - COMECO DO CAMINHO   \n",
       "16683     36519786                         COLEGIO 21 DE ABRIL   \n",
       "16684     34561913                         COLEGIO GURI SENIOR   \n",
       "16685     44580130                                        UNIC   \n",
       "16686     47108730                COLEGIO JOSE NUNES DE MORAIS   \n",
       "\n",
       "       CNAE FISCAL PRINCIPAL  \\\n",
       "0                    8211300   \n",
       "1                    8211300   \n",
       "2                    8211300   \n",
       "3                    8211300   \n",
       "4                    8211300   \n",
       "...                      ...   \n",
       "16682                8513900   \n",
       "16683                8513900   \n",
       "16684                8513900   \n",
       "16685                8513900   \n",
       "16686                8513900   \n",
       "\n",
       "                                       EMDERECO COMPLETO     ID  \n",
       "0          GUILHERME ROCHA ,218 - CENTRO ,FORTALEZA - CE      0  \n",
       "1      JORNALISTA THOMAZ COELHO ,1678 - MESSEJANA ,FO...      1  \n",
       "2          TARCISIO BONFIM ,219 - PAPICU ,FORTALEZA - CE      2  \n",
       "3      FRANCISCO GLICERIO ,290 - MARAPONGA ,FORTALEZA...      3  \n",
       "4      CONSELHEIRO ESTELITA ,130 - CENTRO ,FORTALEZA ...      4  \n",
       "...                                                  ...    ...  \n",
       "16682          ANA BRITO ,913 - MONDUBIM ,FORTALEZA - CE  16682  \n",
       "16683  BEZERRA DE MENEZES ,620 - SAO GERARDO ,FORTALE...  16683  \n",
       "16684  CONEGO DE CASTRO ,1820 - VILA PERY ,FORTALEZA ...  16684  \n",
       "16685         COSTA SOUSA ,217 - BENFICA ,FORTALEZA - CE  16685  \n",
       "16686  GENERAL ROMMEL ,530 - BOA VISTA / CASTELAO ,FO...  16686  \n",
       "\n",
       "[16687 rows x 5 columns]"
      ]
     },
     "execution_count": 131,
     "metadata": {},
     "output_type": "execute_result"
    }
   ],
   "source": [
    "df_final"
   ]
  },
  {
   "cell_type": "code",
   "execution_count": 132,
   "metadata": {},
   "outputs": [],
   "source": [
    "df_lat_lon = pd.DataFrame(columns=list(df_final.columns))"
   ]
  },
  {
   "cell_type": "code",
   "execution_count": 133,
   "metadata": {},
   "outputs": [
    {
     "name": "stderr",
     "output_type": "stream",
     "text": [
      "<>:1: SyntaxWarning: invalid escape sequence '\\A'\n",
      "<>:1: SyntaxWarning: invalid escape sequence '\\A'\n",
      "C:\\Users\\USUARIO\\AppData\\Local\\Temp\\ipykernel_17976\\841734756.py:1: SyntaxWarning: invalid escape sequence '\\A'\n",
      "  df_final.to_csv('D:\\AEY HELTH\\df_final.csv', sep = ';', index=False)\n"
     ]
    }
   ],
   "source": [
    "df_final.to_csv('D:\\AEY HELTH\\df_final.csv', sep = ';', index=False)"
   ]
  },
  {
   "cell_type": "code",
   "execution_count": 106,
   "metadata": {},
   "outputs": [
    {
     "name": "stderr",
     "output_type": "stream",
     "text": [
      "<>:1: SyntaxWarning: invalid escape sequence '\\A'\n",
      "<>:1: SyntaxWarning: invalid escape sequence '\\A'\n",
      "C:\\Users\\USUARIO\\AppData\\Local\\Temp\\ipykernel_17976\\3559682599.py:1: SyntaxWarning: invalid escape sequence '\\A'\n",
      "  df_lat_lon.to_csv('D:\\AEY HELTH\\df_lat_lon.csv', sep = ';', index=False)\n"
     ]
    }
   ],
   "source": [
    "df_lat_lon.to_csv('D:\\AEY HELTH\\df_lat_lon.csv', sep = ';', index=False)"
   ]
  },
  {
   "cell_type": "code",
   "execution_count": 197,
   "metadata": {},
   "outputs": [
    {
     "name": "stderr",
     "output_type": "stream",
     "text": [
      "<>:1: SyntaxWarning: invalid escape sequence '\\A'\n",
      "<>:27: SyntaxWarning: invalid escape sequence '\\A'\n",
      "<>:30: SyntaxWarning: invalid escape sequence '\\A'\n",
      "<>:36: SyntaxWarning: invalid escape sequence '\\A'\n",
      "<>:1: SyntaxWarning: invalid escape sequence '\\A'\n",
      "<>:27: SyntaxWarning: invalid escape sequence '\\A'\n",
      "<>:30: SyntaxWarning: invalid escape sequence '\\A'\n",
      "<>:36: SyntaxWarning: invalid escape sequence '\\A'\n",
      "C:\\Users\\USUARIO\\AppData\\Local\\Temp\\ipykernel_17976\\2036867826.py:1: SyntaxWarning: invalid escape sequence '\\A'\n",
      "  df_final = pd.read_csv('D:\\AEY HELTH\\df_restantes.csv', sep = ';')\n",
      "C:\\Users\\USUARIO\\AppData\\Local\\Temp\\ipykernel_17976\\2036867826.py:27: SyntaxWarning: invalid escape sequence '\\A'\n",
      "  df = pd.read_csv('D:\\AEY HELTH\\df_lat_lon.csv', sep = ';')\n",
      "C:\\Users\\USUARIO\\AppData\\Local\\Temp\\ipykernel_17976\\2036867826.py:30: SyntaxWarning: invalid escape sequence '\\A'\n",
      "  df.to_csv('D:\\AEY HELTH\\df_lat_lon.csv', sep = ';')\n",
      "C:\\Users\\USUARIO\\AppData\\Local\\Temp\\ipykernel_17976\\2036867826.py:36: SyntaxWarning: invalid escape sequence '\\A'\n",
      "  df_final.to_csv('D:\\AEY HELTH\\df_restantes.csv', sep = ';', index=False)\n",
      "100%|██████████| 10/10 [00:11<00:00,  1.13s/it]"
     ]
    },
    {
     "name": "stdout",
     "output_type": "stream",
     "text": [
      "10\n",
      "14496\n",
      "2191\n"
     ]
    },
    {
     "name": "stderr",
     "output_type": "stream",
     "text": [
      "\n",
      "C:\\Users\\USUARIO\\AppData\\Local\\Temp\\ipykernel_17976\\2036867826.py:28: FutureWarning: The behavior of DataFrame concatenation with empty or all-NA entries is deprecated. In a future version, this will no longer exclude empty or all-NA columns when determining the result dtypes. To retain the old behavior, exclude the relevant entries before the concat operation.\n",
      "  df = pd.concat([df,df_aleatorio], ignore_index=True)\n"
     ]
    }
   ],
   "source": [
    "df_final = pd.read_csv('D:\\AEY HELTH\\df_restantes.csv', sep = ';')\n",
    "df_aleatorio = df_final.sample(n=10)\n",
    "lista_latitude = []\n",
    "lista_longitude = []\n",
    "geolocator = Nominatim(user_agent=\"my_geocoder\")\n",
    "none = 0\n",
    "for endereco in tqdm(df_aleatorio['EMDERECO COMPLETO']):\n",
    "    try:\n",
    "        location = geolocator.geocode(endereco)\n",
    "        if location:\n",
    "            latitude = location.latitude\n",
    "            longitude = location.longitude\n",
    "            lista_latitude.append(latitude)\n",
    "            lista_longitude.append(longitude)\n",
    "        else:\n",
    "            lista_latitude.append(None)\n",
    "            lista_longitude.append(None)\n",
    "            none += 1\n",
    "    except GeocoderUnavailable:\n",
    "        lista_latitude.append(None)\n",
    "        lista_longitude.append(None)\n",
    "        none += 1\n",
    "print(none) \n",
    "df_aleatorio['LAT'] = lista_latitude\n",
    "df_aleatorio['LON'] = lista_longitude\n",
    "df_aleatorio = df_aleatorio[df_aleatorio['LAT'].notna()]\n",
    "df = pd.read_csv('D:\\AEY HELTH\\df_lat_lon.csv', sep = ';')\n",
    "df = pd.concat([df,df_aleatorio], ignore_index=True)\n",
    "print(len(df))\n",
    "df.to_csv('D:\\AEY HELTH\\df_lat_lon.csv', sep = ';')\n",
    "valores_aleatorio = df_aleatorio['ID'].unique()\n",
    "valores_final = df_final['ID'].unique()\n",
    "valores_restantes = list(set(valores_final) - set(valores_aleatorio))\n",
    "df_final = df_final[df_final['ID'].isin(valores_restantes)]\n",
    "print(len(df_final))\n",
    "df_final.to_csv('D:\\AEY HELTH\\df_restantes.csv', sep = ';', index=False)"
   ]
  },
  {
   "cell_type": "code",
   "execution_count": 198,
   "metadata": {},
   "outputs": [
    {
     "name": "stderr",
     "output_type": "stream",
     "text": [
      "<>:1: SyntaxWarning: invalid escape sequence '\\A'\n",
      "<>:1: SyntaxWarning: invalid escape sequence '\\A'\n",
      "C:\\Users\\USUARIO\\AppData\\Local\\Temp\\ipykernel_17976\\4188308527.py:1: SyntaxWarning: invalid escape sequence '\\A'\n",
      "  df_lat_lon = pd.read_csv('D:\\AEY HELTH\\df_lat_lon.csv', sep = ';')\n"
     ]
    }
   ],
   "source": [
    "df_lat_lon = pd.read_csv('D:\\AEY HELTH\\df_lat_lon.csv', sep = ';')"
   ]
  },
  {
   "cell_type": "code",
   "execution_count": 199,
   "metadata": {},
   "outputs": [],
   "source": [
    "Q1 = df_lat_lon['LAT'].quantile(0.25)\n",
    "Q3 = df_lat_lon['LAT'].quantile(0.75)\n",
    "\n",
    "IQR = Q3 - Q1\n",
    "\n",
    "limite_inferior = Q1 - 1.5 * IQR\n",
    "limite_superior = Q3 + 1.5 * IQR\n",
    "\n",
    "df_sem_outliers = df_lat_lon[(df_lat_lon['LAT'] >= limite_inferior) & (df_lat_lon['LAT'] <= limite_superior)]"
   ]
  },
  {
   "cell_type": "code",
   "execution_count": 200,
   "metadata": {},
   "outputs": [
    {
     "data": {
      "text/plain": [
       "(array([3.500e+01, 2.200e+01, 4.900e+01, 7.000e+01, 8.300e+01, 1.650e+02,\n",
       "        1.950e+02, 1.100e+02, 1.030e+02, 1.300e+02, 1.240e+02, 2.490e+02,\n",
       "        1.880e+02, 2.770e+02, 2.500e+02, 4.410e+02, 3.100e+02, 4.050e+02,\n",
       "        2.470e+02, 2.260e+02, 2.480e+02, 2.410e+02, 2.350e+02, 2.720e+02,\n",
       "        3.900e+02, 3.890e+02, 4.640e+02, 4.670e+02, 7.840e+02, 9.000e+02,\n",
       "        1.164e+03, 1.564e+03, 1.266e+03, 8.920e+02, 7.610e+02, 2.470e+02,\n",
       "        1.690e+02, 1.010e+02, 4.700e+01, 3.000e+01, 2.500e+01, 1.600e+01,\n",
       "        2.000e+00, 0.000e+00, 0.000e+00, 0.000e+00, 0.000e+00, 0.000e+00,\n",
       "        0.000e+00, 1.000e+00]),\n",
       " array([-3.8547201 , -3.85094891, -3.84717772, -3.84340653, -3.83963534,\n",
       "        -3.83586415, -3.83209295, -3.82832176, -3.82455057, -3.82077938,\n",
       "        -3.81700819, -3.813237  , -3.80946581, -3.80569462, -3.80192343,\n",
       "        -3.79815223, -3.79438104, -3.79060985, -3.78683866, -3.78306747,\n",
       "        -3.77929628, -3.77552509, -3.7717539 , -3.76798271, -3.76421152,\n",
       "        -3.76044033, -3.75666913, -3.75289794, -3.74912675, -3.74535556,\n",
       "        -3.74158437, -3.73781318, -3.73404199, -3.7302708 , -3.72649961,\n",
       "        -3.72272841, -3.71895722, -3.71518603, -3.71141484, -3.70764365,\n",
       "        -3.70387246, -3.70010127, -3.69633008, -3.69255889, -3.6887877 ,\n",
       "        -3.68501651, -3.68124531, -3.67747412, -3.67370293, -3.66993174,\n",
       "        -3.66616055]),\n",
       " <BarContainer object of 50 artists>)"
      ]
     },
     "execution_count": 200,
     "metadata": {},
     "output_type": "execute_result"
    },
    {
     "data": {
      "image/png": "[encoded data removed]",
      "text/plain": [
       "<Figure size 640x480 with 1 Axes>"
      ]
     },
     "metadata": {},
     "output_type": "display_data"
    }
   ],
   "source": [
    "plt.hist(df_sem_outliers['LAT'], bins = 'auto', color='blue', alpha=0.7, edgecolor='black')"
   ]
  },
  {
   "cell_type": "code",
   "execution_count": 201,
   "metadata": {},
   "outputs": [
    {
     "data": {
      "image/png": "[encoded data removed]",
      "text/plain": [
       "<Figure size 1000x600 with 1 Axes>"
      ]
     },
     "metadata": {},
     "output_type": "display_data"
    }
   ],
   "source": [
    "plt.figure(figsize=(10, 6))\n",
    "plt.scatter(df_sem_outliers['LAT'], df_sem_outliers['LON'], color='blue', alpha=0.5) \n",
    "plt.title('Gráfico de Dispersão de Latitude e Longitude') \n",
    "plt.xlabel('Longitude') \n",
    "plt.ylabel('Latitude')\n",
    "plt.grid(True)\n",
    "plt.show()"
   ]
  }
 ],
 "metadata": {
  "kernelspec": {
   "display_name": "py-env",
   "language": "python",
   "name": "python3"
  },
  "language_info": {
   "codemirror_mode": {
    "name": "ipython",
    "version": 3
   },
   "file_extension": ".py",
   "mimetype": "text/x-python",
   "name": "python",
   "nbconvert_exporter": "python",
   "pygments_lexer": "ipython3",
   "version": "3.12.2"
  }
 },
 "nbformat": 4,
 "nbformat_minor": 2
}
