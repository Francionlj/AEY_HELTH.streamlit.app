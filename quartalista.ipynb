{
 "cells": [
  {
   "cell_type": "code",
   "execution_count": 2,
   "metadata": {},
   "outputs": [],
   "source": [
    "import numpy as np\n",
    "import pandas as pd"
   ]
  },
  {
   "cell_type": "markdown",
   "metadata": {},
   "source": [
    "# 1) Sejam os Problemas de Programação Linear. Resolva-os pelo método do BIG M ou método das duas fases "
   ]
  },
  {
   "cell_type": "markdown",
   "metadata": {},
   "source": [
    "## a)\n"
   ]
  },
  {
   "cell_type": "markdown",
   "metadata": {},
   "source": [
    "## b)"
   ]
  },
  {
   "cell_type": "markdown",
   "metadata": {},
   "source": [
    "Min z=2x1 + x2 + x3\n",
    "\n",
    "x1 + x2 >= 2 \n",
    "\n",
    "x3 >= 5 \n",
    "\n",
    "x1, x2, x3 >= 0 "
   ]
  },
  {
   "cell_type": "markdown",
   "metadata": {},
   "source": [
    "Solução utilizando o método simplex duas fazes.\n"
   ]
  },
  {
   "cell_type": "markdown",
   "metadata": {},
   "source": [
    "1)\tTransformando em máximo\n",
    "\n",
    "Min z = 2x1 + x2 + x3 (-1)\n",
    "\n",
    "Max -z+-2x1 +x2 +x3 = 0\n",
    "\n",
    "2)\tCriando variáveis de folga e excessos \n",
    "\n",
    "X1 + x2 - f1 + a1 =2\n",
    "\n",
    "X3 - f2 +a2 = 5\n",
    "\n",
    "3)\tColocando o modelo max no simplex.\n",
    "\n",
    "-z  - 2x1 – x2 – x3 = 0\n",
    "\n",
    "X1 + x2-  f1 + a1 =2\n",
    "\n",
    "X3  - f2 +a2 = 5\n",
    "\n",
    "4)\tEncontrando a equação aux.\n",
    "\n",
    "Aux = a1 + a2\n",
    "\n",
    "Onde \n",
    "A1 = -x1 – 2x2 -0x3+ f1 + 0f2 +2\n",
    "\n",
    "A2 = 0x1 -0x2 -1x3 + 0f1 + 1f2 +5\n",
    "\n",
    "Assim \n",
    "\n",
    "Aux = -x1-2x2-1x3 + f1 + f2 +7\n",
    "\n",
    "5)\tEncontrando o valor máximo da função e multiplicando por -1\n",
    "\n",
    "Min + w =  -x1-2x2-1x3 + f1 + f2 +7 (-1)\n",
    "\n",
    "Max - w =  +x1+2x2+1x3 - f1 - f2 -7\n",
    "\n",
    "Max - w =  -x1-2x2-1x3 + f1 + f2  = -7\n",
    "\n",
    "\n",
    "\n",
    "\n",
    "6)\tAplicando o tabol"
   ]
  },
  {
   "cell_type": "code",
   "execution_count": 3,
   "metadata": {},
   "outputs": [
    {
     "data": {
      "image/png": "[encoded data removed]",
      "text/plain": [
       "<Figure size 640x480 with 1 Axes>"
      ]
     },
     "metadata": {},
     "output_type": "display_data"
    }
   ],
   "source": [
    "import numpy as np\n",
    "import matplotlib.pyplot as plt\n",
    "from mpl_toolkits.mplot3d import Axes3D\n",
    "\n",
    "# Criando os valores para x1, x2, x3\n",
    "x1 = np.linspace(0, 10, 100)\n",
    "x2 = np.linspace(0, 10, 100)\n",
    "# x3 = np.linspace(0, 10, 100)\n",
    "\n",
    "# Criando a grade de valores para x1 e x2\n",
    "X1, X2 = np.meshgrid(x1, x2)\n",
    "\n",
    "# Definindo a restrição x1 + x2 >= 2\n",
    "R1 = X1 + X2\n",
    "\n",
    "# Plotando a restrição x1 + x2 >= 2\n",
    "plt.contourf(X1, X2, R1, levels=[0, 10], colors='gray', alpha=0.3)\n",
    "\n",
    "# Plotando a restrição x3 >= 5\n",
    "plt.plot([0, 10], [5, 5], 'r', label='x3 >= 5')\n",
    "\n",
    "# Plotando o eixo x1 >= 0\n",
    "plt.axvline(x=0, color='k', linewidth=0.5)\n",
    "\n",
    "# Plotando o eixo x2 >= 0\n",
    "plt.axhline(y=0, color='k', linewidth=0.5)\n",
    "\n",
    "# Nomeando os eixos\n",
    "plt.xlabel('x1')\n",
    "plt.ylabel('x2')\n",
    "\n",
    "# Adicionando a legenda\n",
    "plt.legend()\n",
    "\n",
    "# Exibindo o gráfico\n",
    "plt.grid()\n",
    "plt.show()"
   ]
  }
 ],
 "metadata": {
  "kernelspec": {
   "display_name": "py-env",
   "language": "python",
   "name": "python3"
  },
  "language_info": {
   "codemirror_mode": {
    "name": "ipython",
    "version": 3
   },
   "file_extension": ".py",
   "mimetype": "text/x-python",
   "name": "python",
   "nbconvert_exporter": "python",
   "pygments_lexer": "ipython3",
   "version": "3.12.2"
  }
 },
 "nbformat": 4,
 "nbformat_minor": 2
}
